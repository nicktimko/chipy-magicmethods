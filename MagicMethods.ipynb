{
 "cells": [
  {
   "cell_type": "markdown",
   "metadata": {},
   "source": [
    "# Magic Methods!\n",
    "\n",
    "[Slides](https://docs.google.com/presentation/d/13rnvQ7w2YT3WQKgDDAEd7Unlf67WcgzYVN3uGt-vJP8/edit?usp=sharing)\n",
    "\n",
    "1. You can't not use magic methods\n",
    "2. String magic\n",
    "3. Math-y magic (Infix Methods)\n",
    "4. Ordering magic\n",
    "5. Container magic\n",
    "6. Proprietary magic (IPython Notebook)"
   ]
  },
  {
   "cell_type": "markdown",
   "metadata": {},
   "source": [
    "## ✨ 1. There's a little magic in everything ✨"
   ]
  },
  {
   "cell_type": "code",
   "execution_count": 1,
   "metadata": {},
   "outputs": [],
   "source": [
    "class MyObj:\n",
    "    pass\n",
    "    \n",
    "obj = MyObj()"
   ]
  },
  {
   "cell_type": "markdown",
   "metadata": {},
   "source": [
    "That called `object.__init__`"
   ]
  },
  {
   "cell_type": "code",
   "execution_count": 2,
   "metadata": {},
   "outputs": [
    {
     "data": {
      "text/plain": [
       "<__main__.MyObj at 0x7f5a995b8160>"
      ]
     },
     "execution_count": 2,
     "metadata": {},
     "output_type": "execute_result"
    }
   ],
   "source": [
    "obj"
   ]
  },
  {
   "cell_type": "markdown",
   "metadata": {},
   "source": [
    "That called `obj.__repr__`"
   ]
  },
  {
   "cell_type": "code",
   "execution_count": 3,
   "metadata": {},
   "outputs": [
    {
     "name": "stdout",
     "output_type": "stream",
     "text": [
      "<__main__.MyObj object at 0x7f5a995b8160>\n"
     ]
    }
   ],
   "source": [
    "print(obj)"
   ]
  },
  {
   "cell_type": "markdown",
   "metadata": {},
   "source": [
    "That called `obj.__str__`"
   ]
  },
  {
   "cell_type": "markdown",
   "metadata": {},
   "source": [
    "<br><br><br>"
   ]
  },
  {
   "cell_type": "markdown",
   "metadata": {},
   "source": [
    "---"
   ]
  },
  {
   "cell_type": "markdown",
   "metadata": {},
   "source": [
    "<br><br><br>"
   ]
  },
  {
   "cell_type": "markdown",
   "metadata": {},
   "source": [
    "<br><br><br>"
   ]
  },
  {
   "cell_type": "markdown",
   "metadata": {},
   "source": [
    "## 2. Stringy Magic\n",
    "\n",
    "Implementing [`__repr__`](https://docs.python.org/3/reference/datamodel.html#object.__repr__) and [`__str__`](https://docs.python.org/3/reference/datamodel.html#object.__str__) can often be useful when debugging or manipulating objects interactively (like via Notebooks or REPLs)"
   ]
  },
  {
   "cell_type": "code",
   "execution_count": 4,
   "metadata": {},
   "outputs": [],
   "source": [
    "class Stringy:\n",
    "    def __init__(self, name):\n",
    "        self.name = name\n",
    "\n",
    "    def __repr__(self) -> str:\n",
    "        \"\"\"\n",
    "        ...If at all possible, this should look like a valid Python expression \n",
    "        that could be used to recreate an object with the same value. If this \n",
    "        is not possible, a string of the form <...some useful description...> \n",
    "        should be returned. \n",
    "        \"\"\"\n",
    "        return f\"{self.__class__.__name__}('{self.name}')\"\n",
    "    \n",
    "    def __str__(self) -> str:\n",
    "        \"\"\"        \n",
    "        This method differs from `__repr__()` in that there is no expectation \n",
    "        that `__str__()` returns a valid Python expression: a more convenient \n",
    "        or concise representation can be used.\n",
    "        \"\"\"\n",
    "        return f\"Name: {self.name}\""
   ]
  },
  {
   "cell_type": "code",
   "execution_count": 5,
   "metadata": {},
   "outputs": [
    {
     "data": {
      "text/plain": [
       "Stringy('apple')"
      ]
     },
     "execution_count": 5,
     "metadata": {},
     "output_type": "execute_result"
    }
   ],
   "source": [
    "a = Stringy('apple')\n",
    "a"
   ]
  },
  {
   "cell_type": "code",
   "execution_count": 6,
   "metadata": {},
   "outputs": [
    {
     "data": {
      "text/plain": [
       "\"Stringy('apple')\""
      ]
     },
     "execution_count": 6,
     "metadata": {},
     "output_type": "execute_result"
    }
   ],
   "source": [
    "repr(a)"
   ]
  },
  {
   "cell_type": "code",
   "execution_count": 12,
   "metadata": {},
   "outputs": [
    {
     "data": {
      "text/plain": [
       "Stringy('apple')"
      ]
     },
     "execution_count": 12,
     "metadata": {},
     "output_type": "execute_result"
    }
   ],
   "source": [
    "# \"round-trippable\"\n",
    "eval(repr(a))"
   ]
  },
  {
   "cell_type": "code",
   "execution_count": 13,
   "metadata": {},
   "outputs": [
    {
     "name": "stdout",
     "output_type": "stream",
     "text": [
      "Name: apple\n"
     ]
    }
   ],
   "source": [
    "print(a)"
   ]
  },
  {
   "cell_type": "markdown",
   "metadata": {},
   "source": [
    "---\n",
    "\n",
    "Why not something like:"
   ]
  },
  {
   "cell_type": "code",
   "execution_count": 8,
   "metadata": {},
   "outputs": [],
   "source": [
    "class StringyToo:\n",
    "    def __init__(self, name):\n",
    "        self.name = name\n",
    "        \n",
    "    def to_string(self):\n",
    "        return f\"Name: {self.name}\""
   ]
  },
  {
   "cell_type": "code",
   "execution_count": 9,
   "metadata": {},
   "outputs": [
    {
     "data": {
      "text/plain": [
       "<__main__.StringyToo at 0x7f5a98d4b940>"
      ]
     },
     "execution_count": 9,
     "metadata": {},
     "output_type": "execute_result"
    }
   ],
   "source": [
    "b = StringyToo('cheese')\n",
    "b"
   ]
  },
  {
   "cell_type": "code",
   "execution_count": 10,
   "metadata": {},
   "outputs": [
    {
     "data": {
      "text/plain": [
       "'Name: cheese'"
      ]
     },
     "execution_count": 10,
     "metadata": {},
     "output_type": "execute_result"
    }
   ],
   "source": [
    "b.to_string()"
   ]
  },
  {
   "cell_type": "code",
   "execution_count": 11,
   "metadata": {},
   "outputs": [
    {
     "name": "stdout",
     "output_type": "stream",
     "text": [
      "<__main__.StringyToo object at 0x7f5a98d4b940>\n"
     ]
    }
   ],
   "source": [
    "print(b)"
   ]
  },
  {
   "cell_type": "markdown",
   "metadata": {},
   "source": [
    "* Non-standard. Python already has a method for it\n",
    "* If you want to take formatting arguments, implement `__format__`"
   ]
  },
  {
   "cell_type": "markdown",
   "metadata": {},
   "source": [
    "<br><br><br>"
   ]
  },
  {
   "cell_type": "markdown",
   "metadata": {},
   "source": [
    "---"
   ]
  },
  {
   "cell_type": "markdown",
   "metadata": {},
   "source": [
    "<br><br><br>"
   ]
  },
  {
   "cell_type": "markdown",
   "metadata": {},
   "source": [
    "<br><br><br>"
   ]
  },
  {
   "cell_type": "markdown",
   "metadata": {},
   "source": [
    "## 3. Container Magic\n",
    "\n",
    "`__(get|set|del)item__`, `__contains__`, `__len__`, `__iter__`, `__next__`, `__reversed__`..."
   ]
  },
  {
   "cell_type": "code",
   "execution_count": 66,
   "metadata": {},
   "outputs": [],
   "source": [
    "from contextlib import suppress\n",
    "\n",
    "# DIY https://docs.python.org/3/library/collections.html#collections.ChainMap\n",
    "\n",
    "class FallbackDict:\n",
    "    \"\"\"Look through a series of dicts in order\"\"\"\n",
    "    \n",
    "    def __init__(self, *dicts):\n",
    "        self.dicts = dicts\n",
    "\n",
    "    def lookup(self, key):\n",
    "        for d in self.dicts:\n",
    "            with suppress(KeyError):  \n",
    "                return d[key]\n",
    "        raise KeyError(key)"
   ]
  },
  {
   "cell_type": "code",
   "execution_count": 44,
   "metadata": {},
   "outputs": [
    {
     "data": {
      "text/plain": [
       "'pyconie'"
      ]
     },
     "execution_count": 44,
     "metadata": {},
     "output_type": "execute_result"
    }
   ],
   "source": [
    "dicts = [\n",
    "    {\"name\": \"pyconie\", \"misc\": \"woot\"},\n",
    "    {\"misc\": \"etc\"},\n",
    "    {\"name\": \"unknown\", \"greeting\": \"hello\"},\n",
    "]\n",
    "fbd = FallbackDict(*dicts)\n",
    "\n",
    "fbd.lookup(\"name\")"
   ]
  },
  {
   "cell_type": "code",
   "execution_count": 41,
   "metadata": {},
   "outputs": [
    {
     "data": {
      "text/plain": [
       "'hello'"
      ]
     },
     "execution_count": 41,
     "metadata": {},
     "output_type": "execute_result"
    }
   ],
   "source": [
    "dicts[2][\"greeting\"]"
   ]
  },
  {
   "cell_type": "code",
   "execution_count": 42,
   "metadata": {},
   "outputs": [
    {
     "ename": "TypeError",
     "evalue": "'FallbackDict' object is not subscriptable",
     "output_type": "error",
     "traceback": [
      "\u001b[0;31m---------------------------------------------------------------------------\u001b[0m",
      "\u001b[0;31mTypeError\u001b[0m                                 Traceback (most recent call last)",
      "\u001b[0;32m<ipython-input-42-a6abe5678990>\u001b[0m in \u001b[0;36m<module>\u001b[0;34m\u001b[0m\n\u001b[0;32m----> 1\u001b[0;31m \u001b[0;34mf'{fbd[\"greeting\"]}, {fbd[\"name\"]}!'\u001b[0m\u001b[0;34m\u001b[0m\u001b[0;34m\u001b[0m\u001b[0m\n\u001b[0m",
      "\u001b[0;31mTypeError\u001b[0m: 'FallbackDict' object is not subscriptable"
     ]
    }
   ],
   "source": [
    "f'{fbd[\"greeting\"]}, {fbd[\"name\"]}!'"
   ]
  },
  {
   "cell_type": "markdown",
   "metadata": {},
   "source": [
    "<br><br>"
   ]
  },
  {
   "cell_type": "markdown",
   "metadata": {},
   "source": [
    "It's kinda like a dictionary, we can index into it and get items, but not much else."
   ]
  },
  {
   "cell_type": "code",
   "execution_count": 38,
   "metadata": {},
   "outputs": [
    {
     "ename": "TypeError",
     "evalue": "object of type 'FallbackDict' has no len()",
     "output_type": "error",
     "traceback": [
      "\u001b[0;31m---------------------------------------------------------------------------\u001b[0m",
      "\u001b[0;31mTypeError\u001b[0m                                 Traceback (most recent call last)",
      "\u001b[0;32m<ipython-input-38-af21837b06fb>\u001b[0m in \u001b[0;36m<module>\u001b[0;34m\u001b[0m\n\u001b[0;32m----> 1\u001b[0;31m \u001b[0mlen\u001b[0m\u001b[0;34m(\u001b[0m\u001b[0mfbd\u001b[0m\u001b[0;34m)\u001b[0m  \u001b[0;31m# probably should be 3?\u001b[0m\u001b[0;34m\u001b[0m\u001b[0;34m\u001b[0m\u001b[0m\n\u001b[0m",
      "\u001b[0;31mTypeError\u001b[0m: object of type 'FallbackDict' has no len()"
     ]
    }
   ],
   "source": [
    "len(fbd)  # probably should be 3?"
   ]
  },
  {
   "cell_type": "code",
   "execution_count": 25,
   "metadata": {},
   "outputs": [
    {
     "ename": "AttributeError",
     "evalue": "'FallbackDict' object has no attribute 'values'",
     "output_type": "error",
     "traceback": [
      "\u001b[0;31m---------------------------------------------------------------------------\u001b[0m",
      "\u001b[0;31mAttributeError\u001b[0m                            Traceback (most recent call last)",
      "\u001b[0;32m<ipython-input-25-54faf6786513>\u001b[0m in \u001b[0;36m<module>\u001b[0;34m\u001b[0m\n\u001b[0;32m----> 1\u001b[0;31m \u001b[0;34m[\u001b[0m\u001b[0mk\u001b[0m \u001b[0;32mfor\u001b[0m \u001b[0mk\u001b[0m \u001b[0;32min\u001b[0m \u001b[0mfbd\u001b[0m\u001b[0;34m.\u001b[0m\u001b[0mvalues\u001b[0m\u001b[0;34m(\u001b[0m\u001b[0;34m)\u001b[0m\u001b[0;34m]\u001b[0m  \u001b[0;31m# should be 'woot', 'hello', 'chipy'\u001b[0m\u001b[0;34m\u001b[0m\u001b[0;34m\u001b[0m\u001b[0m\n\u001b[0m",
      "\u001b[0;31mAttributeError\u001b[0m: 'FallbackDict' object has no attribute 'values'"
     ]
    }
   ],
   "source": [
    "[k for k in fbd.values()]  # should be 'woot', 'hello', 'chipy'"
   ]
  },
  {
   "cell_type": "code",
   "execution_count": 26,
   "metadata": {},
   "outputs": [
    {
     "ename": "TypeError",
     "evalue": "argument of type 'FallbackDict' is not iterable",
     "output_type": "error",
     "traceback": [
      "\u001b[0;31m---------------------------------------------------------------------------\u001b[0m",
      "\u001b[0;31mTypeError\u001b[0m                                 Traceback (most recent call last)",
      "\u001b[0;32m<ipython-input-26-ac0350f0e56b>\u001b[0m in \u001b[0;36m<module>\u001b[0;34m\u001b[0m\n\u001b[0;32m----> 1\u001b[0;31m \u001b[0;34m'name'\u001b[0m \u001b[0;32min\u001b[0m \u001b[0mfbd\u001b[0m  \u001b[0;31m# is a key in it?\u001b[0m\u001b[0;34m\u001b[0m\u001b[0;34m\u001b[0m\u001b[0m\n\u001b[0m",
      "\u001b[0;31mTypeError\u001b[0m: argument of type 'FallbackDict' is not iterable"
     ]
    }
   ],
   "source": [
    "'name' in fbd  # is a key in it?"
   ]
  },
  {
   "cell_type": "code",
   "execution_count": 27,
   "metadata": {},
   "outputs": [
    {
     "ename": "TypeError",
     "evalue": "'FallbackDict' object is not iterable",
     "output_type": "error",
     "traceback": [
      "\u001b[0;31m---------------------------------------------------------------------------\u001b[0m",
      "\u001b[0;31mTypeError\u001b[0m                                 Traceback (most recent call last)",
      "\u001b[0;32m<ipython-input-27-5fdcf5942ff9>\u001b[0m in \u001b[0;36m<module>\u001b[0;34m\u001b[0m\n\u001b[1;32m      1\u001b[0m \u001b[0;31m# would be nice to convert to a normal dict if we wanted to JSON serialize it\u001b[0m\u001b[0;34m\u001b[0m\u001b[0;34m\u001b[0m\u001b[0;34m\u001b[0m\u001b[0m\n\u001b[0;32m----> 2\u001b[0;31m \u001b[0mdict\u001b[0m\u001b[0;34m(\u001b[0m\u001b[0mfbd\u001b[0m\u001b[0;34m)\u001b[0m\u001b[0;34m\u001b[0m\u001b[0;34m\u001b[0m\u001b[0m\n\u001b[0m",
      "\u001b[0;31mTypeError\u001b[0m: 'FallbackDict' object is not iterable"
     ]
    }
   ],
   "source": [
    "# would be nice to convert to a normal dict if we wanted to JSON serialize it\n",
    "dict(fbd)"
   ]
  },
  {
   "cell_type": "markdown",
   "metadata": {},
   "source": [
    "### [Abstract Base Classes for Containers](https://docs.python.org/3/library/collections.abc.html) (`collections.abc`)\n",
    "\n",
    "Amplify your magics! If you implement the abstract methods required by the type, it can provide additional mixin methods for free. Lets make our `FallbackDict` more `dict`-like by using the `Mapping` ABC (read-only dict)"
   ]
  },
  {
   "cell_type": "code",
   "execution_count": 59,
   "metadata": {},
   "outputs": [],
   "source": [
    "import collections.abc\n",
    "\n",
    "\n",
    "# the M is for Mmmproved Mapping\n",
    "class FallbackDictM(FallbackDict, collections.abc.Mapping):\n",
    "    # __init__, __getitem__ from FallbackDict\n",
    "    \n",
    "    def _all_keys(self):\n",
    "        all_keys = set()\n",
    "        for d in self.dicts:\n",
    "            all_keys |= set(d)\n",
    "        return all_keys\n",
    "    \n",
    "    def __len__(self):\n",
    "        return len(self._all_keys())\n",
    "\n",
    "    def __iter__(self):\n",
    "        for key in self._all_keys():\n",
    "            yield key"
   ]
  },
  {
   "cell_type": "code",
   "execution_count": 60,
   "metadata": {},
   "outputs": [],
   "source": [
    "fbdm = FallbackDictM(*dicts)"
   ]
  },
  {
   "cell_type": "code",
   "execution_count": 61,
   "metadata": {},
   "outputs": [
    {
     "name": "stdout",
     "output_type": "stream",
     "text": [
      "3\n",
      "      misc: woot\n",
      "      name: pyconie\n",
      "  greeting: hello\n"
     ]
    }
   ],
   "source": [
    "print(len(fbdm))  # directly hitting __len__\n",
    "for key in fbdm:  # hits __iter__\n",
    "    print(f\"{key:>10s}: {fbdm[key]}\")"
   ]
  },
  {
   "cell_type": "code",
   "execution_count": 62,
   "metadata": {},
   "outputs": [
    {
     "data": {
      "text/plain": [
       "['woot', 'pyconie', 'hello']"
      ]
     },
     "execution_count": 62,
     "metadata": {},
     "output_type": "execute_result"
    }
   ],
   "source": [
    "list(fbdm.values())  # values method for free"
   ]
  },
  {
   "cell_type": "code",
   "execution_count": 63,
   "metadata": {},
   "outputs": [
    {
     "data": {
      "text/plain": [
       "True"
      ]
     },
     "execution_count": 63,
     "metadata": {},
     "output_type": "execute_result"
    }
   ],
   "source": [
    "'name' in fbdm  # __contains__ for free"
   ]
  },
  {
   "cell_type": "code",
   "execution_count": 64,
   "metadata": {},
   "outputs": [
    {
     "data": {
      "text/plain": [
       "{'misc': 'woot', 'name': 'pyconie', 'greeting': 'hello'}"
      ]
     },
     "execution_count": 64,
     "metadata": {},
     "output_type": "execute_result"
    }
   ],
   "source": [
    "flattened = dict(fbdm)\n",
    "flattened"
   ]
  },
  {
   "cell_type": "code",
   "execution_count": 65,
   "metadata": {},
   "outputs": [
    {
     "data": {
      "text/plain": [
       "True"
      ]
     },
     "execution_count": 65,
     "metadata": {},
     "output_type": "execute_result"
    }
   ],
   "source": [
    "flattened == fbdm  # __eq__ for free"
   ]
  },
  {
   "cell_type": "markdown",
   "metadata": {},
   "source": [
    "<br><br><br>"
   ]
  },
  {
   "cell_type": "markdown",
   "metadata": {},
   "source": [
    "---"
   ]
  },
  {
   "cell_type": "markdown",
   "metadata": {},
   "source": [
    "<br><br><br>"
   ]
  },
  {
   "cell_type": "code",
   "execution_count": 67,
   "metadata": {},
   "outputs": [],
   "source": [
    "from helpers import verbose_method"
   ]
  },
  {
   "cell_type": "markdown",
   "metadata": {},
   "source": [
    "## 4. Math-y Magic\n",
    "\n",
    "Implementing the mathematical magic methods can let you use any of the infix operators to manipulate your objects as makes sense.\n",
    "\n",
    "    x + y     __add__             x & y   __and__\n",
    "    x - y     __sub__             x | y   __or__      \n",
    "    x * y     __mul__             x ^ y   __xor__\n",
    "    x / y     __truediv__         x << y  __lshift__\n",
    "    x // y    __floordiv__        x >> y  __rshift__\n",
    "    x ** y    __pow__           \n",
    "    x % y     __mod__           (unary prefix operators)  \n",
    "    x @ y     __matmul__          -x      __neg__\n",
    "                                  +x      __pos__"
   ]
  },
  {
   "cell_type": "code",
   "execution_count": 68,
   "metadata": {},
   "outputs": [
    {
     "data": {
      "text/plain": [
       "8"
      ]
     },
     "execution_count": 68,
     "metadata": {},
     "output_type": "execute_result"
    }
   ],
   "source": [
    "(3).__add__(5)"
   ]
  },
  {
   "cell_type": "markdown",
   "metadata": {},
   "source": [
    "The operators can be (ab)used in other contexts. Don't go crazy with it: keep it sensible. \n",
    "\n",
    "Let's DIY `pathlib.Path`:"
   ]
  },
  {
   "cell_type": "code",
   "execution_count": 69,
   "metadata": {},
   "outputs": [],
   "source": [
    "class PathyBase:\n",
    "    def __init__(self, path):\n",
    "        self.path = path\n",
    "\n",
    "    def __repr__(self):\n",
    "        return f\"{self.__class__.__name__}({self.path!r})\"\n",
    "\n",
    "\n",
    "class PathA(PathyBase):\n",
    "    @verbose_method\n",
    "    def __truediv__(self, other) -> str:\n",
    "        return self.__class__(self.path + '/' + other.path)"
   ]
  },
  {
   "cell_type": "code",
   "execution_count": 70,
   "metadata": {},
   "outputs": [
    {
     "name": "stdout",
     "output_type": "stream",
     "text": [
      "call: PathA('aaa').__truediv__(PathA('bbb')) => PathA('aaa/bbb')\n"
     ]
    },
    {
     "data": {
      "text/plain": [
       "PathA('aaa/bbb')"
      ]
     },
     "execution_count": 70,
     "metadata": {},
     "output_type": "execute_result"
    }
   ],
   "source": [
    "PathA('aaa') / PathA('bbb')"
   ]
  },
  {
   "cell_type": "code",
   "execution_count": 71,
   "metadata": {},
   "outputs": [
    {
     "name": "stdout",
     "output_type": "stream",
     "text": [
      "call: PathA('aaa').__truediv__(PathA('bbb')) => PathA('aaa/bbb')\n"
     ]
    },
    {
     "data": {
      "text/plain": [
       "PathA('aaa/bbb')"
      ]
     },
     "execution_count": 71,
     "metadata": {},
     "output_type": "execute_result"
    }
   ],
   "source": [
    "# identical to above\n",
    "PathA('aaa').__truediv__(PathA('bbb'))"
   ]
  },
  {
   "cell_type": "markdown",
   "metadata": {},
   "source": [
    "---\n",
    "\n",
    "`PathA` shortcoming: only works when all parts are `Path` objects, can't incorporate a string"
   ]
  },
  {
   "cell_type": "code",
   "execution_count": 72,
   "metadata": {},
   "outputs": [],
   "source": [
    "class PathB(PathyBase):\n",
    "    @verbose_method\n",
    "    def __truediv__(self, other):\n",
    "        if isinstance(other, self.__class__):\n",
    "            other_value = other.path\n",
    "        else:\n",
    "            other_value = other\n",
    "\n",
    "        return self.__class__(self.path + '/' + other_value)"
   ]
  },
  {
   "cell_type": "code",
   "execution_count": 73,
   "metadata": {},
   "outputs": [
    {
     "name": "stdout",
     "output_type": "stream",
     "text": [
      "call: PathB('ccc').__truediv__('ddd') => PathB('ccc/ddd')\n"
     ]
    },
    {
     "data": {
      "text/plain": [
       "PathB('ccc/ddd')"
      ]
     },
     "execution_count": 73,
     "metadata": {},
     "output_type": "execute_result"
    }
   ],
   "source": [
    "PathB('ccc') / 'ddd'"
   ]
  },
  {
   "cell_type": "code",
   "execution_count": 74,
   "metadata": {},
   "outputs": [
    {
     "name": "stdout",
     "output_type": "stream",
     "text": [
      "call: PathB('ccc').__truediv__('ddd') => PathB('ccc/ddd')\n",
      "call: PathB('ccc/ddd').__truediv__('eee') => PathB('ccc/ddd/eee')\n"
     ]
    },
    {
     "data": {
      "text/plain": [
       "PathB('ccc/ddd/eee')"
      ]
     },
     "execution_count": 74,
     "metadata": {},
     "output_type": "execute_result"
    }
   ],
   "source": [
    "PathB('ccc') / 'ddd' / 'eee'"
   ]
  },
  {
   "cell_type": "markdown",
   "metadata": {},
   "source": [
    "---\n",
    "\n",
    "`PathB` shortcomings:"
   ]
  },
  {
   "cell_type": "code",
   "execution_count": 75,
   "metadata": {},
   "outputs": [
    {
     "ename": "TypeError",
     "evalue": "unsupported operand type(s) for /: 'str' and 'PathB'",
     "output_type": "error",
     "traceback": [
      "\u001b[0;31m---------------------------------------------------------------------------\u001b[0m",
      "\u001b[0;31mTypeError\u001b[0m                                 Traceback (most recent call last)",
      "\u001b[0;32m<ipython-input-75-c4f75a9b85c8>\u001b[0m in \u001b[0;36m<module>\u001b[0;34m\u001b[0m\n\u001b[0;32m----> 1\u001b[0;31m \u001b[0;34m'ccc'\u001b[0m \u001b[0;34m/\u001b[0m \u001b[0mPathB\u001b[0m\u001b[0;34m(\u001b[0m\u001b[0;34m'ddd'\u001b[0m\u001b[0;34m)\u001b[0m\u001b[0;34m\u001b[0m\u001b[0;34m\u001b[0m\u001b[0m\n\u001b[0m",
      "\u001b[0;31mTypeError\u001b[0m: unsupported operand type(s) for /: 'str' and 'PathB'"
     ]
    }
   ],
   "source": [
    "'ccc' / PathB('ddd')"
   ]
  },
  {
   "cell_type": "code",
   "execution_count": 76,
   "metadata": {},
   "outputs": [
    {
     "ename": "TypeError",
     "evalue": "unsupported operand type(s) for /: 'str' and 'PathB'",
     "output_type": "error",
     "traceback": [
      "\u001b[0;31m---------------------------------------------------------------------------\u001b[0m",
      "\u001b[0;31mTypeError\u001b[0m                                 Traceback (most recent call last)",
      "\u001b[0;32m<ipython-input-76-0333ba4da6e4>\u001b[0m in \u001b[0;36m<module>\u001b[0;34m\u001b[0m\n\u001b[0;32m----> 1\u001b[0;31m \u001b[0mresult\u001b[0m \u001b[0;34m=\u001b[0m \u001b[0;34m'usr'\u001b[0m \u001b[0;34m/\u001b[0m \u001b[0mPathB\u001b[0m\u001b[0;34m(\u001b[0m\u001b[0;34m'bin'\u001b[0m\u001b[0;34m)\u001b[0m \u001b[0;34m/\u001b[0m \u001b[0;34m'python'\u001b[0m\u001b[0;34m\u001b[0m\u001b[0;34m\u001b[0m\u001b[0m\n\u001b[0m",
      "\u001b[0;31mTypeError\u001b[0m: unsupported operand type(s) for /: 'str' and 'PathB'"
     ]
    }
   ],
   "source": [
    "result = 'usr' / PathB('bin') / 'python'"
   ]
  },
  {
   "cell_type": "code",
   "execution_count": 77,
   "metadata": {
    "scrolled": true
   },
   "outputs": [
    {
     "ename": "TypeError",
     "evalue": "unsupported operand type(s) for /: 'str' and 'PathB'",
     "output_type": "error",
     "traceback": [
      "\u001b[0;31m---------------------------------------------------------------------------\u001b[0m",
      "\u001b[0;31mTypeError\u001b[0m                                 Traceback (most recent call last)",
      "\u001b[0;32m<ipython-input-77-1c7488e70d32>\u001b[0m in \u001b[0;36m<module>\u001b[0;34m\u001b[0m\n\u001b[1;32m      1\u001b[0m \u001b[0;31m# equivalent\u001b[0m\u001b[0;34m\u001b[0m\u001b[0;34m\u001b[0m\u001b[0;34m\u001b[0m\u001b[0m\n\u001b[0;32m----> 2\u001b[0;31m \u001b[0m_intermediate\u001b[0m \u001b[0;34m=\u001b[0m \u001b[0;34m'usr'\u001b[0m \u001b[0;34m/\u001b[0m \u001b[0mPathB\u001b[0m\u001b[0;34m(\u001b[0m\u001b[0;34m'bin'\u001b[0m\u001b[0;34m)\u001b[0m\u001b[0;34m\u001b[0m\u001b[0;34m\u001b[0m\u001b[0m\n\u001b[0m\u001b[1;32m      3\u001b[0m \u001b[0mresult\u001b[0m \u001b[0;34m=\u001b[0m \u001b[0m_intermediate\u001b[0m \u001b[0;34m/\u001b[0m \u001b[0;34m'python'\u001b[0m\u001b[0;34m\u001b[0m\u001b[0;34m\u001b[0m\u001b[0m\n",
      "\u001b[0;31mTypeError\u001b[0m: unsupported operand type(s) for /: 'str' and 'PathB'"
     ]
    }
   ],
   "source": [
    "# equivalent\n",
    "_intermediate = 'usr' / PathB('bin')\n",
    "result = _intermediate / 'python'"
   ]
  },
  {
   "cell_type": "markdown",
   "metadata": {},
   "source": [
    "---\n",
    "\n",
    "To support those operand type(s), we use the [*reflected* methods](https://docs.python.org/3/reference/datamodel.html?#object.__radd__), `__r*__`. When the \"forward\" direction fails, Python will attempt to call it the other way, so `'usr' + PathB('lib')` is effectively something like:\n",
    "\n",
    "```python\n",
    "try:\n",
    "    'usr'.__truediv__(PathB('lib'))   # the str type doesn't know what a Path is\n",
    "except TypeError:\n",
    "    PathB('lib').__rtruediv__('usr')  # but we have the option to do something!\n",
    "```"
   ]
  },
  {
   "cell_type": "markdown",
   "metadata": {},
   "source": [
    "Numeric Demo:"
   ]
  },
  {
   "cell_type": "code",
   "execution_count": 78,
   "metadata": {},
   "outputs": [
    {
     "data": {
      "text/plain": [
       "98"
      ]
     },
     "execution_count": 78,
     "metadata": {},
     "output_type": "execute_result"
    }
   ],
   "source": [
    "(2).__rsub__(100)"
   ]
  },
  {
   "cell_type": "code",
   "execution_count": 79,
   "metadata": {},
   "outputs": [
    {
     "data": {
      "text/plain": [
       "50.0"
      ]
     },
     "execution_count": 79,
     "metadata": {},
     "output_type": "execute_result"
    }
   ],
   "source": [
    "(2).__rtruediv__(100)"
   ]
  },
  {
   "cell_type": "markdown",
   "metadata": {},
   "source": [
    "---"
   ]
  },
  {
   "cell_type": "code",
   "execution_count": 80,
   "metadata": {},
   "outputs": [],
   "source": [
    "class PathC(PathB):\n",
    "    # __truediv__ from PathB\n",
    "\n",
    "    @verbose_method\n",
    "    def __rtruediv__(self, other) -> str:\n",
    "        \"\"\"\n",
    "        Note that the order of arguments are reversed on the call; \n",
    "        so `self` will be the object *after* the infix operator, and \n",
    "        `other` the one before.\n",
    "        \n",
    "        We're also assuming that other is an integer, Path / Path\n",
    "        operations will just use __truediv__ from the first one.\n",
    "        \"\"\"\n",
    "        return self.__class__(other + '/' + self.path)"
   ]
  },
  {
   "cell_type": "code",
   "execution_count": 81,
   "metadata": {},
   "outputs": [
    {
     "name": "stdout",
     "output_type": "stream",
     "text": [
      "call: PathC('bash').__rtruediv__('bin') => PathC('bin/bash')\n"
     ]
    },
    {
     "data": {
      "text/plain": [
       "PathC('bin/bash')"
      ]
     },
     "execution_count": 81,
     "metadata": {},
     "output_type": "execute_result"
    }
   ],
   "source": [
    "'bin' / PathC('bash')"
   ]
  },
  {
   "cell_type": "code",
   "execution_count": 82,
   "metadata": {},
   "outputs": [
    {
     "name": "stdout",
     "output_type": "stream",
     "text": [
      "call: PathC('home').__truediv__(PathC('nick')) => PathC('home/nick')\n"
     ]
    },
    {
     "data": {
      "text/plain": [
       "PathC('home/nick')"
      ]
     },
     "execution_count": 82,
     "metadata": {},
     "output_type": "execute_result"
    }
   ],
   "source": [
    "PathC('home') / PathC('nick')"
   ]
  },
  {
   "cell_type": "code",
   "execution_count": 83,
   "metadata": {},
   "outputs": [
    {
     "name": "stdout",
     "output_type": "stream",
     "text": [
      "call: PathC('home').__truediv__('nick') => PathC('home/nick')\n",
      "call: PathC('home/nick').__truediv__(PathC('Code')) => PathC('home/nick/Code')\n"
     ]
    },
    {
     "data": {
      "text/plain": [
       "PathC('home/nick/Code')"
      ]
     },
     "execution_count": 83,
     "metadata": {},
     "output_type": "execute_result"
    }
   ],
   "source": [
    "PathC('home') / 'nick' / PathC('Code')"
   ]
  },
  {
   "cell_type": "code",
   "execution_count": 85,
   "metadata": {
    "scrolled": true
   },
   "outputs": [
    {
     "name": "stdout",
     "output_type": "stream",
     "text": [
      "call: PathC('home').__truediv__('nick') => PathC('home/nick')\n",
      "call: PathC('home/nick').__truediv__('Code') => PathC('home/nick/Code')\n",
      "call: PathC('home/nick/Code').__truediv__('talks/pyconie') => PathC('home/nick/Code/talks/pyconie')\n"
     ]
    },
    {
     "data": {
      "text/plain": [
       "PathC('home/nick/Code/talks/pyconie')"
      ]
     },
     "execution_count": 85,
     "metadata": {},
     "output_type": "execute_result"
    }
   ],
   "source": [
    "PathC('home') / 'nick' / 'Code' / 'talks/pyconie'"
   ]
  },
  {
   "cell_type": "markdown",
   "metadata": {},
   "source": [
    "### More Abstract Mixins\n",
    "\n",
    "The built-in `open()` accepts objects that are [`os.PathLike`](https://docs.python.org/3/library/os.html#os.PathLike) (new in 3.6). `PathLike` is an **abstract base class** that objects can define to specify how they are path-like."
   ]
  },
  {
   "cell_type": "code",
   "execution_count": 88,
   "metadata": {},
   "outputs": [],
   "source": [
    "import os\n",
    "\n",
    "class PathD(PathC, os.PathLike):\n",
    "    @verbose_method\n",
    "    def __fspath__(self):\n",
    "        return os.path.expanduser(self.path)"
   ]
  },
  {
   "cell_type": "code",
   "execution_count": 93,
   "metadata": {
    "scrolled": true
   },
   "outputs": [
    {
     "name": "stdout",
     "output_type": "stream",
     "text": [
      "building path\n",
      "call: PathD('~').__truediv__('.gitignore_global') => PathD('~/.gitignore_global')\n",
      "opening it!\n",
      "call: PathD('~/.gitignore_global').__fspath__() => '/home/nick/.gitignore_global'\n",
      "\n",
      "File Contents:\n",
      "==============\n",
      "*.py[cod]\n",
      "__pycache__/\n",
      "_build\n",
      "\n"
     ]
    }
   ],
   "source": [
    "print('building path')\n",
    "ignore = PathD('~') / '.gitignore_global'\n",
    "\n",
    "print('opening it!')\n",
    "with open(ignore) as f:\n",
    "    print('\\nFile Contents:\\n==============')\n",
    "    for line in f:\n",
    "        print(line, end=\"\")"
   ]
  },
  {
   "cell_type": "markdown",
   "metadata": {},
   "source": [
    "We've created a hacky version of [`pathlib`](https://docs.python.org/3/library/pathlib.html), a standard library package.  Use that one instead, but be inspired to create something else."
   ]
  },
  {
   "cell_type": "code",
   "execution_count": null,
   "metadata": {},
   "outputs": [],
   "source": []
  },
  {
   "cell_type": "markdown",
   "metadata": {},
   "source": [
    "```\n",
    "\n",
    "\n",
    "\n",
    "\n",
    "\n",
    "\n",
    "\n",
    "\n",
    "\n",
    "\n",
    "\n",
    "\n",
    "\n",
    "\n",
    "\n",
    "\n",
    "```"
   ]
  },
  {
   "cell_type": "markdown",
   "metadata": {},
   "source": [
    "## 5. Ordering Magic\n",
    "\n",
    "The Methods: `__eq__`, `__ne__`, `__lt__`, `__le__`, `__gt__`, `__ge__`"
   ]
  },
  {
   "cell_type": "code",
   "execution_count": 94,
   "metadata": {},
   "outputs": [],
   "source": [
    "versions = [\n",
    "    '0.9.4',\n",
    "    '0.95.3',\n",
    "    '0.10.5',\n",
    "    '0.9.34',\n",
    "    '0.10.42',\n",
    "    '1.4.2',\n",
    "]"
   ]
  },
  {
   "cell_type": "code",
   "execution_count": 95,
   "metadata": {},
   "outputs": [
    {
     "data": {
      "text/plain": [
       "['0.10.42', '0.10.5', '0.9.34', '0.9.4', '0.95.3', '1.4.2']"
      ]
     },
     "execution_count": 95,
     "metadata": {},
     "output_type": "execute_result"
    }
   ],
   "source": [
    "sorted(versions)"
   ]
  },
  {
   "cell_type": "markdown",
   "metadata": {},
   "source": [
    "How can we sort these? We could pass a `key` argument into `sorted()`:"
   ]
  },
  {
   "cell_type": "code",
   "execution_count": 96,
   "metadata": {},
   "outputs": [
    {
     "data": {
      "text/plain": [
       "['0.9.4', '0.9.34', '0.10.5', '0.10.42', '0.95.3', '1.4.2']"
      ]
     },
     "execution_count": 96,
     "metadata": {},
     "output_type": "execute_result"
    }
   ],
   "source": [
    "sorted(versions, key=lambda i: [int(p) for p in i.split('.')])"
   ]
  },
  {
   "cell_type": "code",
   "execution_count": 97,
   "metadata": {},
   "outputs": [],
   "source": [
    "class Version:\n",
    "    def __init__(self, version):\n",
    "        self.version = version\n",
    "        self.major, self.minor, self.patch = (int(x) for x in version.split('.'))\n",
    "    \n",
    "    def __repr__(self):\n",
    "        return f'{self.__class__.__name__}({self.version!r})'\n",
    "\n",
    "    @verbose_method\n",
    "    def __lt__(self, other):\n",
    "        return (\n",
    "            (self.major, self.minor, self.patch) \n",
    "            < (other.major, other.minor, other.patch)\n",
    "        )"
   ]
  },
  {
   "cell_type": "code",
   "execution_count": 98,
   "metadata": {},
   "outputs": [
    {
     "name": "stdout",
     "output_type": "stream",
     "text": [
      "call: Version('0.32.52').__lt__(Version('0.93.2')) => True\n"
     ]
    },
    {
     "data": {
      "text/plain": [
       "True"
      ]
     },
     "execution_count": 98,
     "metadata": {},
     "output_type": "execute_result"
    }
   ],
   "source": [
    "Version('0.32.52') < Version('0.93.2')"
   ]
  },
  {
   "cell_type": "code",
   "execution_count": 295,
   "metadata": {},
   "outputs": [
    {
     "name": "stdout",
     "output_type": "stream",
     "text": [
      "call: Version('10.0.0').__lt__(Version('9.99.999')) => False\n"
     ]
    },
    {
     "data": {
      "text/plain": [
       "False"
      ]
     },
     "execution_count": 295,
     "metadata": {},
     "output_type": "execute_result"
    }
   ],
   "source": [
    "Version('10.0.0') < Version('9.99.999')"
   ]
  },
  {
   "cell_type": "code",
   "execution_count": 296,
   "metadata": {},
   "outputs": [
    {
     "ename": "TypeError",
     "evalue": "'<=' not supported between instances of 'Version' and 'Version'",
     "output_type": "error",
     "traceback": [
      "\u001b[0;31m---------------------------------------------------------------------------\u001b[0m",
      "\u001b[0;31mTypeError\u001b[0m                                 Traceback (most recent call last)",
      "\u001b[0;32m<ipython-input-296-422fc2c052f8>\u001b[0m in \u001b[0;36m<module>\u001b[0;34m\u001b[0m\n\u001b[0;32m----> 1\u001b[0;31m \u001b[0mVersion\u001b[0m\u001b[0;34m(\u001b[0m\u001b[0;34m'10.0.0'\u001b[0m\u001b[0;34m)\u001b[0m \u001b[0;34m<=\u001b[0m \u001b[0mVersion\u001b[0m\u001b[0;34m(\u001b[0m\u001b[0;34m'9.99.999'\u001b[0m\u001b[0;34m)\u001b[0m\u001b[0;34m\u001b[0m\u001b[0;34m\u001b[0m\u001b[0m\n\u001b[0m",
      "\u001b[0;31mTypeError\u001b[0m: '<=' not supported between instances of 'Version' and 'Version'"
     ]
    }
   ],
   "source": [
    "Version('10.0.0') <= Version('9.99.999')"
   ]
  },
  {
   "cell_type": "markdown",
   "metadata": {},
   "source": [
    "---"
   ]
  },
  {
   "cell_type": "code",
   "execution_count": 297,
   "metadata": {},
   "outputs": [],
   "source": [
    "import functools\n",
    "\n",
    "@functools.total_ordering\n",
    "class Version2(Version):\n",
    "    # __lt__ from Version\n",
    "    \n",
    "    @verbose_method\n",
    "    def __eq__(self, other):\n",
    "        return (\n",
    "            (self.major, self.minor, self.patch) \n",
    "            == (other.major, other.minor, other.patch)\n",
    "        )\n",
    "    \n",
    "    # __gt__, __ge__, __le__ from total_ordering"
   ]
  },
  {
   "cell_type": "code",
   "execution_count": 298,
   "metadata": {},
   "outputs": [
    {
     "name": "stdout",
     "output_type": "stream",
     "text": [
      "call: Version2('1.23.42').__lt__(Version2('1.5.99')) => False\n",
      "call: Version2('1.23.42').__eq__(Version2('1.5.99')) => False\n"
     ]
    },
    {
     "data": {
      "text/plain": [
       "True"
      ]
     },
     "execution_count": 298,
     "metadata": {},
     "output_type": "execute_result"
    }
   ],
   "source": [
    "Version2(\"1.23.42\") > Version2(\"1.5.99\")"
   ]
  },
  {
   "cell_type": "markdown",
   "metadata": {},
   "source": [
    "---"
   ]
  },
  {
   "cell_type": "code",
   "execution_count": 299,
   "metadata": {},
   "outputs": [
    {
     "data": {
      "text/plain": [
       "[Version('0.9.4'),\n",
       " Version('0.95.3'),\n",
       " Version('0.10.5'),\n",
       " Version('0.9.34'),\n",
       " Version('0.10.42'),\n",
       " Version('1.4.2')]"
      ]
     },
     "execution_count": 299,
     "metadata": {},
     "output_type": "execute_result"
    }
   ],
   "source": [
    "version_objs = [Version(v) for v in versions]\n",
    "version_objs"
   ]
  },
  {
   "cell_type": "code",
   "execution_count": 300,
   "metadata": {},
   "outputs": [
    {
     "name": "stdout",
     "output_type": "stream",
     "text": [
      "call: Version('0.95.3').__lt__(Version('0.9.4')) => False\n",
      "call: Version('0.10.5').__lt__(Version('0.95.3')) => True\n",
      "call: Version('0.10.5').__lt__(Version('0.95.3')) => True\n",
      "call: Version('0.10.5').__lt__(Version('0.9.4')) => False\n",
      "call: Version('0.9.34').__lt__(Version('0.10.5')) => True\n",
      "call: Version('0.9.34').__lt__(Version('0.9.4')) => False\n",
      "call: Version('0.10.42').__lt__(Version('0.10.5')) => False\n",
      "call: Version('0.10.42').__lt__(Version('0.95.3')) => True\n",
      "call: Version('1.4.2').__lt__(Version('0.10.5')) => False\n",
      "call: Version('1.4.2').__lt__(Version('0.95.3')) => False\n"
     ]
    },
    {
     "data": {
      "text/plain": [
       "[Version('0.9.4'),\n",
       " Version('0.9.34'),\n",
       " Version('0.10.5'),\n",
       " Version('0.10.42'),\n",
       " Version('0.95.3'),\n",
       " Version('1.4.2')]"
      ]
     },
     "execution_count": 300,
     "metadata": {},
     "output_type": "execute_result"
    }
   ],
   "source": [
    "sorted(version_objs)"
   ]
  },
  {
   "cell_type": "code",
   "execution_count": 301,
   "metadata": {},
   "outputs": [
    {
     "name": "stdout",
     "output_type": "stream",
     "text": [
      "call: Version('0.9.4').__lt__(Version('0.95.3')) => True\n",
      "call: Version('0.95.3').__lt__(Version('0.10.5')) => False\n",
      "call: Version('0.95.3').__lt__(Version('0.9.34')) => False\n",
      "call: Version('0.95.3').__lt__(Version('0.10.42')) => False\n",
      "call: Version('0.95.3').__lt__(Version('1.4.2')) => True\n"
     ]
    },
    {
     "data": {
      "text/plain": [
       "Version('1.4.2')"
      ]
     },
     "execution_count": 301,
     "metadata": {},
     "output_type": "execute_result"
    }
   ],
   "source": [
    "max(version_objs)"
   ]
  },
  {
   "cell_type": "code",
   "execution_count": 302,
   "metadata": {},
   "outputs": [
    {
     "name": "stdout",
     "output_type": "stream",
     "text": [
      "call: Version('0.95.3').__lt__(Version('0.9.4')) => False\n",
      "call: Version('0.10.5').__lt__(Version('0.9.4')) => False\n",
      "call: Version('0.9.34').__lt__(Version('0.9.4')) => False\n",
      "call: Version('0.10.42').__lt__(Version('0.9.4')) => False\n",
      "call: Version('1.4.2').__lt__(Version('0.9.4')) => False\n"
     ]
    },
    {
     "data": {
      "text/plain": [
       "Version('0.9.4')"
      ]
     },
     "execution_count": 302,
     "metadata": {},
     "output_type": "execute_result"
    }
   ],
   "source": [
    "min(version_objs)"
   ]
  },
  {
   "cell_type": "markdown",
   "metadata": {},
   "source": [
    "Also, not everything can take a `key` argument:"
   ]
  },
  {
   "cell_type": "code",
   "execution_count": 303,
   "metadata": {},
   "outputs": [
    {
     "name": "stdout",
     "output_type": "stream",
     "text": [
      "call: Version('0.10.5').__lt__(Version('1.4.2')) => True\n",
      "call: Version('0.9.34').__lt__(Version('0.10.42')) => True\n",
      "call: Version('0.95.3').__lt__(Version('0.9.34')) => False\n",
      "call: Version('0.9.34').__lt__(Version('0.10.5')) => True\n",
      "call: Version('0.95.3').__lt__(Version('0.10.42')) => False\n",
      "call: Version('0.9.4').__lt__(Version('0.10.42')) => True\n",
      "call: Version('0.9.4').__lt__(Version('0.9.34')) => True\n"
     ]
    }
   ],
   "source": [
    "import heapq\n",
    "\n",
    "version_heap = version_objs[:]\n",
    "heapq.heapify(version_heap)"
   ]
  },
  {
   "cell_type": "code",
   "execution_count": 304,
   "metadata": {},
   "outputs": [
    {
     "name": "stdout",
     "output_type": "stream",
     "text": [
      "call: Version('0.9.34').__lt__(Version('0.10.5')) => True\n",
      "call: Version('0.95.3').__lt__(Version('0.10.42')) => False\n",
      "call: Version('1.4.2').__lt__(Version('0.10.42')) => False\n",
      "Version('0.9.4')\n",
      "call: Version('0.10.42').__lt__(Version('0.10.5')) => False\n",
      "call: Version('1.4.2').__lt__(Version('0.10.5')) => False\n",
      "Version('0.9.34')\n",
      "call: Version('0.10.42').__lt__(Version('1.4.2')) => True\n",
      "call: Version('0.95.3').__lt__(Version('0.10.42')) => False\n",
      "Version('0.10.5')\n",
      "call: Version('1.4.2').__lt__(Version('0.95.3')) => False\n",
      "Version('0.10.42')\n",
      "Version('0.95.3')\n",
      "Version('1.4.2')\n"
     ]
    }
   ],
   "source": [
    "while version_heap:\n",
    "    print(heapq.heappop(version_heap))"
   ]
  },
  {
   "cell_type": "markdown",
   "metadata": {},
   "source": [
    "<br><br>"
   ]
  },
  {
   "cell_type": "markdown",
   "metadata": {},
   "source": [
    "---"
   ]
  },
  {
   "cell_type": "markdown",
   "metadata": {},
   "source": [
    "<br><br>"
   ]
  },
  {
   "cell_type": "markdown",
   "metadata": {},
   "source": [
    "<br><br>"
   ]
  },
  {
   "cell_type": "markdown",
   "metadata": {},
   "source": [
    "<br><br>"
   ]
  },
  {
   "cell_type": "markdown",
   "metadata": {},
   "source": [
    "## 6. Proprietary Magic\n",
    "\n",
    "https://ipython.readthedocs.io/en/stable/config/integrating.html#rich-display\n",
    "\n",
    "IPython notebook can display richer representations of objects. To use this, you can define any of a number of `_repr_*_()` methods. Note that these are surrounded by single, not double underscores.\n",
    "\n",
    "The notebook can display `svg`, `png`, `jpeg`, `html`, `javascript`, `markdown` and `latex`. If the methods don’t exist, or return `None`, it falls back to a standard `repr()`."
   ]
  },
  {
   "cell_type": "code",
   "execution_count": 149,
   "metadata": {},
   "outputs": [
    {
     "data": {
      "text/plain": [
       "'https://imgs.xkcd.com/comics/aaaaaa.png'"
      ]
     },
     "execution_count": 149,
     "metadata": {},
     "output_type": "execute_result"
    }
   ],
   "source": [
    "from helpers import get_xkcd_hotlink\n",
    "get_xkcd_hotlink(1001)"
   ]
  },
  {
   "cell_type": "code",
   "execution_count": 150,
   "metadata": {},
   "outputs": [],
   "source": [
    "import functools\n",
    "import requests\n",
    "\n",
    "class XKCDComic:\n",
    "    def __init__(self, url):\n",
    "        self.url = url\n",
    "        self.png = None\n",
    "        \n",
    "    def load(self):\n",
    "        response = requests.get(self.url)\n",
    "        response.raise_for_status()\n",
    "        self.png = response.content\n",
    "        \n",
    "    def _repr_png_(self):\n",
    "        if self.png is None:\n",
    "            self.load()\n",
    "        return self.png\n",
    "\n",
    "class XKCDViewer:\n",
    "    @functools.lru_cache()\n",
    "    def __getitem__(self, key):\n",
    "        url = get_xkcd_hotlink(key)\n",
    "        if url is None:\n",
    "            raise KeyError(\"couldn't find XKCD comic with that number\")\n",
    "        return XKCDComic(url)\n",
    "\n",
    "xkcd = XKCDViewer()"
   ]
  },
  {
   "cell_type": "code",
   "execution_count": 151,
   "metadata": {},
   "outputs": [
    {
     "data": {
      "image/png": "[encoded data removed]",
      "text/plain": [
       "<__main__.XKCDComic at 0x7f5a83577518>"
      ]
     },
     "execution_count": 151,
     "metadata": {},
     "output_type": "execute_result"
    }
   ],
   "source": [
    "ANTIGRAVITY = 353\n",
    "BOBBY_TABLES = 327\n",
    "PYTHON_ENV = 1987\n",
    "SANDWICH = 149\n",
    "PARENS = 297\n",
    "\n",
    "xkcd[PARENS]"
   ]
  },
  {
   "cell_type": "markdown",
   "metadata": {},
   "source": [
    "<br><br>"
   ]
  },
  {
   "cell_type": "markdown",
   "metadata": {},
   "source": [
    "<br><br><br><br><hr><br><br><br><br>"
   ]
  },
  {
   "cell_type": "markdown",
   "metadata": {},
   "source": [
    "<br><br>"
   ]
  },
  {
   "cell_type": "markdown",
   "metadata": {},
   "source": [
    "## Bonus: Context Managers"
   ]
  },
  {
   "cell_type": "code",
   "execution_count": 152,
   "metadata": {},
   "outputs": [],
   "source": [
    "class Suppressor:\n",
    "    \"\"\"\n",
    "    https://docs.python.org/3/reference/datamodel.html#with-statement-context-managers\n",
    "    \"\"\"\n",
    "    def __init__(self, exc_ignore):\n",
    "        self.exc_ignore = exc_ignore\n",
    "\n",
    "    def __enter__(self):\n",
    "        return self\n",
    "    \n",
    "    def __exit__(self, exc_type, exc_value, traceback):\n",
    "        \"\"\"\n",
    "        ... If an exception is supplied, and the method wishes to suppress the \n",
    "        exception, it should return a true value. ...\n",
    "        \"\"\"\n",
    "        return (\n",
    "            exc_type is not None \n",
    "            and issubclass(exc_type, self.exc_ignore)\n",
    "        )"
   ]
  },
  {
   "cell_type": "code",
   "execution_count": 153,
   "metadata": {},
   "outputs": [
    {
     "name": "stdout",
     "output_type": "stream",
     "text": [
      "abc\n",
      "mmmkay\n"
     ]
    }
   ],
   "source": [
    "with Suppressor(IndexError):\n",
    "    print('abcde'[:3])  # works normally\n",
    "\n",
    "with Suppressor(IndexError):\n",
    "    print('abcde'[1000])  # raises an error, but it gets suppressed\n",
    "    \n",
    "print('mmmkay')"
   ]
  },
  {
   "cell_type": "code",
   "execution_count": 154,
   "metadata": {
    "scrolled": true
   },
   "outputs": [
    {
     "ename": "IndexError",
     "evalue": "string index out of range",
     "output_type": "error",
     "traceback": [
      "\u001b[0;31m---------------------------------------------------------------------------\u001b[0m",
      "\u001b[0;31mIndexError\u001b[0m                                Traceback (most recent call last)",
      "\u001b[0;32m<ipython-input-154-237bc03c9b44>\u001b[0m in \u001b[0;36m<module>\u001b[0;34m\u001b[0m\n\u001b[1;32m      1\u001b[0m \u001b[0;32mwith\u001b[0m \u001b[0mSuppressor\u001b[0m\u001b[0;34m(\u001b[0m\u001b[0mRuntimeError\u001b[0m\u001b[0;34m)\u001b[0m\u001b[0;34m:\u001b[0m\u001b[0;34m\u001b[0m\u001b[0;34m\u001b[0m\u001b[0m\n\u001b[0;32m----> 2\u001b[0;31m     \u001b[0;34m'abcde'\u001b[0m\u001b[0;34m[\u001b[0m\u001b[0;36m1000\u001b[0m\u001b[0;34m]\u001b[0m  \u001b[0;31m# raises the wrong error\u001b[0m\u001b[0;34m\u001b[0m\u001b[0;34m\u001b[0m\u001b[0m\n\u001b[0m",
      "\u001b[0;31mIndexError\u001b[0m: string index out of range"
     ]
    }
   ],
   "source": [
    "with Suppressor(RuntimeError):\n",
    "    'abcde'[1000]  # raises the wrong error"
   ]
  },
  {
   "cell_type": "markdown",
   "metadata": {},
   "source": [
    "We basically re-implemented [`contextlib.suppress`](https://docs.python.org/3/library/contextlib.html#contextlib.suppress) [(source)](https://github.com/python/cpython/blob/cca4eec3c0/Lib/contextlib.py#L342) from the standard lib."
   ]
  },
  {
   "cell_type": "code",
   "execution_count": 127,
   "metadata": {},
   "outputs": [],
   "source": [
    "import traceback\n",
    "\n",
    "class expect_exception:\n",
    "    \"\"\"\n",
    "    Expect an exception and trap it. Helps run all of a notebook\n",
    "    that may have intentional errors for pedagogical reasons\n",
    "    \"\"\"\n",
    "    def __init__(self, *exc_types):\n",
    "        self.exc_types = exc_types\n",
    "        \n",
    "    def __enter__(self):\n",
    "        return self\n",
    "    \n",
    "    def __exit__(self, exc_type, exc_value, tb):\n",
    "        if exc_type is None:\n",
    "            raise RuntimeError('expected exception did not occur!')\n",
    "        if issubclass(exc_type, self.exc_types):\n",
    "            traceback.print_exception(exc_type, exc_value, tb)\n",
    "            return True"
   ]
  },
  {
   "cell_type": "code",
   "execution_count": 131,
   "metadata": {
    "scrolled": true
   },
   "outputs": [
    {
     "name": "stdout",
     "output_type": "stream",
     "text": [
      "call: PathA('a').__truediv__('b') =X 'AttributeError(\"\\'str\\' object has no attribute \\'path\\'\")'\n",
      "I'm not dead yet\n"
     ]
    },
    {
     "name": "stderr",
     "output_type": "stream",
     "text": [
      "Traceback (most recent call last):\n",
      "  File \"<ipython-input-131-607bf4cd8fd0>\", line 2, in <module>\n",
      "    PathA('a') / 'b'\n",
      "  File \"/home/nick/Code/talks-magicmethods/helpers.py\", line 11, in _method\n",
      "    result = method(self, *args)\n",
      "  File \"<ipython-input-69-78ced35de376>\", line 12, in __truediv__\n",
      "    return self.__class__(self.path + '/' + other.path)\n",
      "AttributeError: 'str' object has no attribute 'path'\n"
     ]
    }
   ],
   "source": [
    "with expect_exception(AttributeError):\n",
    "    PathA('a') / 'b'\n",
    "\n",
    "print(\"I'm not dead yet\")"
   ]
  },
  {
   "cell_type": "markdown",
   "metadata": {},
   "source": [
    "<br><br>"
   ]
  },
  {
   "cell_type": "markdown",
   "metadata": {},
   "source": [
    "## Penalty Time: Pad time with audience questions\n",
    "\n",
    "* Punt: Name your favorite bit of syntax! (maybe magic methods are involved)\n",
    "* Live Coding/Comedy: Have me implement the magic method of your choice!"
   ]
  },
  {
   "cell_type": "code",
   "execution_count": 130,
   "metadata": {},
   "outputs": [],
   "source": [
    "class MyObj:\n",
    "    def __x__(self, xyz):\n",
    "        ..."
   ]
  },
  {
   "cell_type": "markdown",
   "metadata": {},
   "source": [
    "<br><br><br><br><hr><br><br><br><br>"
   ]
  },
  {
   "cell_type": "markdown",
   "metadata": {},
   "source": [
    "<br><br>"
   ]
  },
  {
   "cell_type": "markdown",
   "metadata": {},
   "source": [
    "## Wow, that went fast, still need more content?"
   ]
  },
  {
   "cell_type": "code",
   "execution_count": 124,
   "metadata": {},
   "outputs": [
    {
     "name": "stdout",
     "output_type": "stream",
     "text": [
      "IPv4('10.23.42.2')\n",
      "IPv4Range('10.23.32.0')\n"
     ]
    }
   ],
   "source": [
    "class IPv4:\n",
    "    def __init__(self, address):\n",
    "        self.address = address\n",
    "        self.bits = bytes(int(p) for p in address.split(\".\"))\n",
    "        \n",
    "    def __repr__(self):\n",
    "        return f\"{self.__class__.__name__}({self.address!r})\"\n",
    "        \n",
    "    def __truediv__(self, bits):\n",
    "        return IPv4Range(self.address, bits)\n",
    "    \n",
    "class IPv4Range:\n",
    "    def __init__(self, address, mask_bits):\n",
    "        bits = bytes(int(p) for p in address.split(\".\"))\n",
    "        num = int.from_bytes(bits, \"big\")\n",
    "        num = num & ~((1 << (32 - mask_bits)) - 1)\n",
    "        self.bits = num.to_bytes(4, \"big\")\n",
    "        self.address = \".\".join(str(n) for n in self.bits)\n",
    "        \n",
    "    def __repr__(self):\n",
    "        return f\"{self.__class__.__name__}({self.address!r})\"\n",
    "    \n",
    "addr = IPv4(\"10.23.42.2\")\n",
    "addr_range = addr / 20\n",
    "print(addr)\n",
    "print(addr_range)"
   ]
  },
  {
   "cell_type": "code",
   "execution_count": null,
   "metadata": {},
   "outputs": [],
   "source": []
  },
  {
   "cell_type": "markdown",
   "metadata": {},
   "source": [
    "CSS hacks for more efficient space use "
   ]
  },
  {
   "cell_type": "code",
   "execution_count": 31,
   "metadata": {},
   "outputs": [
    {
     "data": {
      "text/html": [
       "<style>\n",
       "div.prompt {\n",
       "    min-width: 11ex;\n",
       "}\n",
       "</style>\n"
      ],
      "text/plain": [
       "<IPython.core.display.HTML object>"
      ]
     },
     "metadata": {},
     "output_type": "display_data"
    }
   ],
   "source": [
    "%%html\n",
    "<style>\n",
    "div.prompt {\n",
    "    min-width: 11ex;\n",
    "}\n",
    "</style>"
   ]
  }
 ],
 "metadata": {
  "kernelspec": {
   "display_name": "Python 3",
   "language": "python",
   "name": "python3"
  },
  "language_info": {
   "codemirror_mode": {
    "name": "ipython",
    "version": 3
   },
   "file_extension": ".py",
   "mimetype": "text/x-python",
   "name": "python",
   "nbconvert_exporter": "python",
   "pygments_lexer": "ipython3",
   "version": "3.7.2"
  }
 },
 "nbformat": 4,
 "nbformat_minor": 2
}
