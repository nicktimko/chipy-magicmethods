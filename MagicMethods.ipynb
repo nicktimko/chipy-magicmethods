{
 "cells": [
  {
   "cell_type": "markdown",
   "metadata": {},
   "source": [
    "## There's a little magic in everything"
   ]
  },
  {
   "cell_type": "code",
   "execution_count": 1,
   "metadata": {},
   "outputs": [],
   "source": [
    "obj = object()"
   ]
  },
  {
   "cell_type": "markdown",
   "metadata": {},
   "source": [
    "That called `object.__init__`"
   ]
  },
  {
   "cell_type": "code",
   "execution_count": 2,
   "metadata": {},
   "outputs": [
    {
     "data": {
      "text/plain": [
       "<object at 0x7fbc320ffc70>"
      ]
     },
     "execution_count": 2,
     "metadata": {},
     "output_type": "execute_result"
    }
   ],
   "source": [
    "obj"
   ]
  },
  {
   "cell_type": "markdown",
   "metadata": {},
   "source": [
    "That called `obj.__repr__`"
   ]
  },
  {
   "cell_type": "code",
   "execution_count": 3,
   "metadata": {},
   "outputs": [
    {
     "data": {
      "text/plain": [
       "'<object object at 0x7fbc320ffc70>'"
      ]
     },
     "execution_count": 3,
     "metadata": {},
     "output_type": "execute_result"
    }
   ],
   "source": [
    "str(obj)"
   ]
  },
  {
   "cell_type": "markdown",
   "metadata": {},
   "source": [
    "That called `obj.__str__` (which calls `obj.__repr__` as a fallback)"
   ]
  },
  {
   "cell_type": "markdown",
   "metadata": {},
   "source": [
    "```\n",
    "\n",
    "\n",
    "\n",
    "\n",
    "\n",
    "\n",
    "\n",
    "\n",
    "\n",
    "\n",
    "\n",
    "\n",
    "\n",
    "\n",
    "\n",
    "\n",
    "```"
   ]
  },
  {
   "cell_type": "markdown",
   "metadata": {},
   "source": [
    "## Stringy Types\n",
    "\n",
    "Implementing [`__repr__`](https://docs.python.org/3/reference/datamodel.html#object.__repr__) and [`__str__`](https://docs.python.org/3/reference/datamodel.html#object.__str__) can often be useful when debugging or manipulating objects interactively (like via Notebooks or REPLs)"
   ]
  },
  {
   "cell_type": "code",
   "execution_count": 4,
   "metadata": {},
   "outputs": [],
   "source": [
    "class Stringy:\n",
    "    def __init__(self, name):\n",
    "        self.name = name\n",
    "\n",
    "    def __repr__(self) -> str:\n",
    "        \"\"\"\n",
    "        ...If at all possible, this should look like a valid Python expression \n",
    "        that could be used to recreate an object with the same value. If this \n",
    "        is not possible, a string of the form <...some useful description...> \n",
    "        should be returned. \n",
    "        \"\"\"\n",
    "        return f\"{self.__class__.__name__}('{self.name}')\"\n",
    "    \n",
    "    def __str__(self) -> str:\n",
    "        \"\"\"        \n",
    "        This method differs from `__repr__()` in that there is no expectation \n",
    "        that `__str__()` returns a valid Python expression: a more convenient \n",
    "        or concise representation can be used.\n",
    "        \"\"\"\n",
    "        return f\"Name: {self.name}\""
   ]
  },
  {
   "cell_type": "code",
   "execution_count": 5,
   "metadata": {},
   "outputs": [
    {
     "data": {
      "text/plain": [
       "Stringy('apple')"
      ]
     },
     "execution_count": 5,
     "metadata": {},
     "output_type": "execute_result"
    }
   ],
   "source": [
    "a = Stringy('apple')\n",
    "a"
   ]
  },
  {
   "cell_type": "code",
   "execution_count": 6,
   "metadata": {},
   "outputs": [
    {
     "data": {
      "text/plain": [
       "\"Stringy('apple')\""
      ]
     },
     "execution_count": 6,
     "metadata": {},
     "output_type": "execute_result"
    }
   ],
   "source": [
    "repr(a)"
   ]
  },
  {
   "cell_type": "code",
   "execution_count": 7,
   "metadata": {
    "scrolled": true
   },
   "outputs": [
    {
     "data": {
      "text/plain": [
       "'Name: apple'"
      ]
     },
     "execution_count": 7,
     "metadata": {},
     "output_type": "execute_result"
    }
   ],
   "source": [
    "str(a)"
   ]
  },
  {
   "cell_type": "markdown",
   "metadata": {},
   "source": [
    "---\n",
    "\n",
    "Why not something like:"
   ]
  },
  {
   "cell_type": "code",
   "execution_count": 8,
   "metadata": {},
   "outputs": [],
   "source": [
    "class StringyToo:\n",
    "    def __init__(self, name):\n",
    "        self.name = name\n",
    "        \n",
    "    def to_string(self):\n",
    "        return f\"Name: {self.name}\""
   ]
  },
  {
   "cell_type": "code",
   "execution_count": 9,
   "metadata": {},
   "outputs": [
    {
     "data": {
      "text/plain": [
       "<__main__.StringyToo at 0x7fbc250bfc50>"
      ]
     },
     "execution_count": 9,
     "metadata": {},
     "output_type": "execute_result"
    }
   ],
   "source": [
    "b = StringyToo('cheese')\n",
    "b"
   ]
  },
  {
   "cell_type": "code",
   "execution_count": 10,
   "metadata": {},
   "outputs": [
    {
     "data": {
      "text/plain": [
       "'Name: cheese'"
      ]
     },
     "execution_count": 10,
     "metadata": {},
     "output_type": "execute_result"
    }
   ],
   "source": [
    "b.to_string()"
   ]
  },
  {
   "cell_type": "code",
   "execution_count": null,
   "metadata": {},
   "outputs": [],
   "source": []
  },
  {
   "cell_type": "markdown",
   "metadata": {},
   "source": [
    "```\n",
    "\n",
    "\n",
    "\n",
    "\n",
    "\n",
    "\n",
    "\n",
    "\n",
    "\n",
    "\n",
    "\n",
    "\n",
    "\n",
    "\n",
    "\n",
    "\n",
    "```"
   ]
  },
  {
   "cell_type": "markdown",
   "metadata": {},
   "source": [
    "### Quacks like...\n",
    "\n",
    "String-like objects can be used in place of other strings"
   ]
  },
  {
   "cell_type": "code",
   "execution_count": 11,
   "metadata": {},
   "outputs": [
    {
     "data": {
      "text/plain": [
       "'I have an object. <__main__.StringyToo object at 0x7fbc250bfc50>.'"
      ]
     },
     "execution_count": 11,
     "metadata": {},
     "output_type": "execute_result"
    }
   ],
   "source": [
    "f\"I have an object. {b}.\""
   ]
  },
  {
   "cell_type": "code",
   "execution_count": 12,
   "metadata": {},
   "outputs": [
    {
     "data": {
      "text/plain": [
       "\"I have an object. Name: apple. It was made with: Stringy('apple')\""
      ]
     },
     "execution_count": 12,
     "metadata": {},
     "output_type": "execute_result"
    }
   ],
   "source": [
    "f\"I have an object. {a}. It was made with: {a!r}\""
   ]
  },
  {
   "cell_type": "code",
   "execution_count": null,
   "metadata": {},
   "outputs": [],
   "source": []
  },
  {
   "cell_type": "markdown",
   "metadata": {},
   "source": [
    "```\n",
    "\n",
    "\n",
    "\n",
    "\n",
    "\n",
    "\n",
    "\n",
    "\n",
    "\n",
    "\n",
    "\n",
    "\n",
    "\n",
    "\n",
    "\n",
    "\n",
    "```"
   ]
  },
  {
   "cell_type": "code",
   "execution_count": 13,
   "metadata": {},
   "outputs": [],
   "source": [
    "def verbose(method):\n",
    "    \"\"\"Wrapper to print the method name, arguments, and result of a call\"\"\"\n",
    "    def _method(self, *args):\n",
    "        arg_str = ', '.join(repr(a) for a in args)\n",
    "        result = method(self, *args)\n",
    "        print(f'call: {self!r}.{method.__name__}({arg_str}) => {result!r}')\n",
    "        return result\n",
    "    return _method"
   ]
  },
  {
   "cell_type": "markdown",
   "metadata": {},
   "source": [
    "## Math-able Types\n",
    "\n",
    "Implementing the mathematical magic methods can let you use any of the infix operators to manipulate your objects as makes sense.\n",
    "\n",
    "    x + y     __add__             x & y   __and__\n",
    "    x - y     __sub__             x | y   __or__      \n",
    "    x * y     __mul__             x ^ y   __xor__\n",
    "    x / y     __truediv__         x << y  __lshift__\n",
    "    x // y    __floordiv__        x >> y  __rshift__\n",
    "    x ** y    __pow__\n",
    "    x % y     __mod__\n",
    "    x @ y     __matmul__"
   ]
  },
  {
   "cell_type": "code",
   "execution_count": 14,
   "metadata": {},
   "outputs": [],
   "source": [
    "class DigitBase:\n",
    "    def __init__(self, value):\n",
    "        self.value = value\n",
    "\n",
    "    def __repr__(self):\n",
    "        return f\"{self.__class__.__name__}({self.value})\"\n",
    "\n",
    "\n",
    "class DigitA(DigitBase):\n",
    "    @verbose\n",
    "    def __add__(self, other) -> int:\n",
    "        return self.value * 10 + other.value"
   ]
  },
  {
   "cell_type": "code",
   "execution_count": 15,
   "metadata": {},
   "outputs": [
    {
     "name": "stdout",
     "output_type": "stream",
     "text": [
      "call: DigitA(8).__add__(DigitA(4)) => 84\n"
     ]
    },
    {
     "data": {
      "text/plain": [
       "84"
      ]
     },
     "execution_count": 15,
     "metadata": {},
     "output_type": "execute_result"
    }
   ],
   "source": [
    "DigitA(8) + DigitA(4)"
   ]
  },
  {
   "cell_type": "code",
   "execution_count": 16,
   "metadata": {},
   "outputs": [
    {
     "name": "stdout",
     "output_type": "stream",
     "text": [
      "call: DigitA(8).__add__(DigitA(4)) => 84\n"
     ]
    },
    {
     "data": {
      "text/plain": [
       "84"
      ]
     },
     "execution_count": 16,
     "metadata": {},
     "output_type": "execute_result"
    }
   ],
   "source": [
    "DigitA(8).__add__(DigitA(4))"
   ]
  },
  {
   "cell_type": "markdown",
   "metadata": {},
   "source": [
    "---"
   ]
  },
  {
   "cell_type": "code",
   "execution_count": 17,
   "metadata": {},
   "outputs": [],
   "source": [
    "class DigitB(DigitBase):\n",
    "    @verbose\n",
    "    def __add__(self, other) -> int:\n",
    "        if isinstance(other, self.__class__):\n",
    "            other_value = other.value\n",
    "        else:\n",
    "            other_value = other\n",
    "\n",
    "        return self.value * 10 + other_value"
   ]
  },
  {
   "cell_type": "code",
   "execution_count": 18,
   "metadata": {},
   "outputs": [
    {
     "name": "stdout",
     "output_type": "stream",
     "text": [
      "call: DigitB(8).__add__(6) => 86\n"
     ]
    },
    {
     "data": {
      "text/plain": [
       "86"
      ]
     },
     "execution_count": 18,
     "metadata": {},
     "output_type": "execute_result"
    }
   ],
   "source": [
    "DigitB(8) + 6"
   ]
  },
  {
   "cell_type": "code",
   "execution_count": 19,
   "metadata": {},
   "outputs": [
    {
     "ename": "TypeError",
     "evalue": "unsupported operand type(s) for +: 'int' and 'DigitB'",
     "output_type": "error",
     "traceback": [
      "\u001b[0;31m---------------------------------------------------------------------------\u001b[0m",
      "\u001b[0;31mTypeError\u001b[0m                                 Traceback (most recent call last)",
      "\u001b[0;32m<ipython-input-19-0dee80158153>\u001b[0m in \u001b[0;36m<module>\u001b[0;34m()\u001b[0m\n\u001b[1;32m      1\u001b[0m \u001b[0;31m# doesn't work\u001b[0m\u001b[0;34m\u001b[0m\u001b[0;34m\u001b[0m\u001b[0m\n\u001b[0;32m----> 2\u001b[0;31m \u001b[0;36m6\u001b[0m \u001b[0;34m+\u001b[0m \u001b[0mDigitB\u001b[0m\u001b[0;34m(\u001b[0m\u001b[0;36m8\u001b[0m\u001b[0;34m)\u001b[0m\u001b[0;34m\u001b[0m\u001b[0m\n\u001b[0m",
      "\u001b[0;31mTypeError\u001b[0m: unsupported operand type(s) for +: 'int' and 'DigitB'"
     ]
    }
   ],
   "source": [
    "# doesn't work\n",
    "6 + DigitB(8)"
   ]
  },
  {
   "cell_type": "code",
   "execution_count": 20,
   "metadata": {
    "scrolled": true
   },
   "outputs": [
    {
     "name": "stdout",
     "output_type": "stream",
     "text": [
      "call: DigitB(1).__add__(DigitB(2)) => 12\n"
     ]
    },
    {
     "ename": "TypeError",
     "evalue": "unsupported operand type(s) for +: 'int' and 'DigitB'",
     "output_type": "error",
     "traceback": [
      "\u001b[0;31m---------------------------------------------------------------------------\u001b[0m",
      "\u001b[0;31mTypeError\u001b[0m                                 Traceback (most recent call last)",
      "\u001b[0;32m<ipython-input-20-a6db672fd18c>\u001b[0m in \u001b[0;36m<module>\u001b[0;34m()\u001b[0m\n\u001b[1;32m      1\u001b[0m \u001b[0;31m# also doesn't work (same error)\u001b[0m\u001b[0;34m\u001b[0m\u001b[0;34m\u001b[0m\u001b[0m\n\u001b[0;32m----> 2\u001b[0;31m \u001b[0mresult\u001b[0m \u001b[0;34m=\u001b[0m \u001b[0mDigitB\u001b[0m\u001b[0;34m(\u001b[0m\u001b[0;36m1\u001b[0m\u001b[0;34m)\u001b[0m \u001b[0;34m+\u001b[0m \u001b[0mDigitB\u001b[0m\u001b[0;34m(\u001b[0m\u001b[0;36m2\u001b[0m\u001b[0;34m)\u001b[0m \u001b[0;34m+\u001b[0m \u001b[0mDigitB\u001b[0m\u001b[0;34m(\u001b[0m\u001b[0;36m3\u001b[0m\u001b[0;34m)\u001b[0m\u001b[0;34m\u001b[0m\u001b[0m\n\u001b[0m\u001b[1;32m      3\u001b[0m \u001b[0;34m\u001b[0m\u001b[0m\n\u001b[1;32m      4\u001b[0m \u001b[0;31m# equivalent\u001b[0m\u001b[0;34m\u001b[0m\u001b[0;34m\u001b[0m\u001b[0m\n\u001b[1;32m      5\u001b[0m \u001b[0m_intermediate\u001b[0m\u001b[0;34m:\u001b[0m \u001b[0mint\u001b[0m \u001b[0;34m=\u001b[0m \u001b[0mDigitB\u001b[0m\u001b[0;34m(\u001b[0m\u001b[0;36m1\u001b[0m\u001b[0;34m)\u001b[0m \u001b[0;34m+\u001b[0m \u001b[0mDigitB\u001b[0m\u001b[0;34m(\u001b[0m\u001b[0;36m2\u001b[0m\u001b[0;34m)\u001b[0m\u001b[0;34m\u001b[0m\u001b[0m\n",
      "\u001b[0;31mTypeError\u001b[0m: unsupported operand type(s) for +: 'int' and 'DigitB'"
     ]
    }
   ],
   "source": [
    "# also doesn't work (same error)\n",
    "result = DigitB(1) + DigitB(2) + DigitB(3)\n",
    "\n",
    "# equivalent\n",
    "_intermediate: int = DigitB(1) + DigitB(2)\n",
    "result = _intermediate + DigitB(3)"
   ]
  },
  {
   "cell_type": "markdown",
   "metadata": {},
   "source": [
    "---\n",
    "\n",
    "To support those operand type(s), we use the [*reflected* methods](https://docs.python.org/3/reference/datamodel.html?highlight=radd#object.__radd__), `__r*__`. When the \"forward\" direction fails, Python will attempt to call it the other way, so `6 + DigitB(8)` is effectively something like:\n",
    "\n",
    "```python\n",
    "try:\n",
    "    6.__add__(DigitB(8))   # the int type doesn't know what a Digit is\n",
    "except TypeError:\n",
    "    DigitB(8).__radd__(6)  # but we have the option to do something!\n",
    "```"
   ]
  },
  {
   "cell_type": "code",
   "execution_count": 21,
   "metadata": {},
   "outputs": [],
   "source": [
    "class DigitC(DigitB):\n",
    "    # __add__ from DigitB\n",
    "\n",
    "    @verbose\n",
    "    def __radd__(self, other) -> int:\n",
    "        \"\"\"\n",
    "        Note that the order of arguments are reversed on the call; \n",
    "        so `self` will be the object *after* the infix operator, and \n",
    "        `other` the one before.\n",
    "        \n",
    "        We're also assuming that other is an integer, Digit + Digit\n",
    "        operations will just use __add__ from the first one.\n",
    "        \"\"\"\n",
    "        return other * 10 + self.value"
   ]
  },
  {
   "cell_type": "code",
   "execution_count": 22,
   "metadata": {},
   "outputs": [
    {
     "name": "stdout",
     "output_type": "stream",
     "text": [
      "call: DigitC(7).__radd__(2) => 27\n"
     ]
    },
    {
     "data": {
      "text/plain": [
       "27"
      ]
     },
     "execution_count": 22,
     "metadata": {},
     "output_type": "execute_result"
    }
   ],
   "source": [
    "2 + DigitC(7)"
   ]
  },
  {
   "cell_type": "code",
   "execution_count": 23,
   "metadata": {},
   "outputs": [
    {
     "name": "stdout",
     "output_type": "stream",
     "text": [
      "call: DigitC(1).__add__(DigitC(2)) => 12\n"
     ]
    },
    {
     "data": {
      "text/plain": [
       "12"
      ]
     },
     "execution_count": 23,
     "metadata": {},
     "output_type": "execute_result"
    }
   ],
   "source": [
    "DigitC(1) + DigitC(2)"
   ]
  },
  {
   "cell_type": "code",
   "execution_count": 24,
   "metadata": {
    "scrolled": true
   },
   "outputs": [
    {
     "name": "stdout",
     "output_type": "stream",
     "text": [
      "call: DigitC(1).__add__(DigitC(2)) => 12\n",
      "call: DigitC(3).__radd__(12) => 123\n",
      "call: DigitC(4).__radd__(123) => 1234\n",
      "call: DigitC(5).__radd__(1234) => 12345\n"
     ]
    },
    {
     "data": {
      "text/plain": [
       "12345"
      ]
     },
     "execution_count": 24,
     "metadata": {},
     "output_type": "execute_result"
    }
   ],
   "source": [
    "DigitC(1) + DigitC(2) + DigitC(3) + DigitC(4) + DigitC(5)"
   ]
  },
  {
   "cell_type": "markdown",
   "metadata": {},
   "source": [
    "### Builtins that Add\n",
    "\n",
    "The built-in `sum()` uses `+` to add objects together. It uses an optional keyword argument `start` as the initial value (all calls below will just use `__radd__`)"
   ]
  },
  {
   "cell_type": "code",
   "execution_count": 25,
   "metadata": {},
   "outputs": [
    {
     "name": "stdout",
     "output_type": "stream",
     "text": [
      "Help on built-in function sum in module builtins:\n",
      "\n",
      "sum(iterable, start=0, /)\n",
      "    Return the sum of a 'start' value (default: 0) plus an iterable of numbers\n",
      "    \n",
      "    When the iterable is empty, return the start value.\n",
      "    This function is intended specifically for use with numeric values and may\n",
      "    reject non-numeric types.\n",
      "\n"
     ]
    }
   ],
   "source": [
    "help(sum)"
   ]
  },
  {
   "cell_type": "code",
   "execution_count": 26,
   "metadata": {},
   "outputs": [
    {
     "name": "stdout",
     "output_type": "stream",
     "text": [
      "[DigitC(8), DigitC(6), DigitC(7), DigitC(5), DigitC(3), DigitC(0), DigitC(9)]\n",
      "\n",
      "call: DigitC(8).__radd__(0) => 8\n",
      "call: DigitC(6).__radd__(8) => 86\n",
      "call: DigitC(7).__radd__(86) => 867\n",
      "call: DigitC(5).__radd__(867) => 8675\n",
      "call: DigitC(3).__radd__(8675) => 86753\n",
      "call: DigitC(0).__radd__(86753) => 867530\n",
      "call: DigitC(9).__radd__(867530) => 8675309\n"
     ]
    }
   ],
   "source": [
    "def complicated_str_to_int(s):\n",
    "    digits = [DigitC(int(d)) for d in s]\n",
    "    print(digits)\n",
    "    print()\n",
    "    return sum(digits)\n",
    "\n",
    "assert complicated_str_to_int('8675309') == 8675309"
   ]
  },
  {
   "cell_type": "code",
   "execution_count": null,
   "metadata": {},
   "outputs": [],
   "source": []
  },
  {
   "cell_type": "markdown",
   "metadata": {},
   "source": [
    "```\n",
    "\n",
    "\n",
    "\n",
    "\n",
    "\n",
    "\n",
    "\n",
    "\n",
    "\n",
    "\n",
    "\n",
    "\n",
    "\n",
    "\n",
    "\n",
    "\n",
    "```"
   ]
  },
  {
   "cell_type": "markdown",
   "metadata": {},
   "source": [
    "## Orderable Types"
   ]
  },
  {
   "cell_type": "code",
   "execution_count": 27,
   "metadata": {},
   "outputs": [],
   "source": [
    "versions = [\n",
    "    '0.9.4',\n",
    "    '0.95.3',\n",
    "    '0.10.5',\n",
    "    '0.9.34',\n",
    "    '0.10.42',\n",
    "    '1.4.2',\n",
    "]"
   ]
  },
  {
   "cell_type": "code",
   "execution_count": 28,
   "metadata": {},
   "outputs": [
    {
     "data": {
      "text/plain": [
       "['0.10.42', '0.10.5', '0.9.34', '0.9.4', '0.95.3', '1.4.2']"
      ]
     },
     "execution_count": 28,
     "metadata": {},
     "output_type": "execute_result"
    }
   ],
   "source": [
    "sorted(versions)"
   ]
  },
  {
   "cell_type": "markdown",
   "metadata": {},
   "source": [
    "How can we sort these? We could pass a `key` argument into `sorted()`:"
   ]
  },
  {
   "cell_type": "code",
   "execution_count": 29,
   "metadata": {},
   "outputs": [
    {
     "data": {
      "text/plain": [
       "['0.9.4', '0.9.34', '0.10.5', '0.10.42', '0.95.3', '1.4.2']"
      ]
     },
     "execution_count": 29,
     "metadata": {},
     "output_type": "execute_result"
    }
   ],
   "source": [
    "sorted(versions, key=lambda i: [int(p) for p in i.split('.')])"
   ]
  },
  {
   "cell_type": "code",
   "execution_count": 30,
   "metadata": {},
   "outputs": [],
   "source": [
    "class Version:\n",
    "    def __init__(self, version):\n",
    "        self.version = version\n",
    "        self.major, self.minor, self.patch = (int(x) for x in version.split('.'))\n",
    "    \n",
    "    def __repr__(self):\n",
    "        return f'{self.__class__.__name__}({self.version!r})'\n",
    "    \n",
    "    def __lt__(self, other):\n",
    "#         print(f'call: __lt__({self}, {other})')\n",
    "        return (\n",
    "            (self.major, self.minor, self.patch) \n",
    "            < (other.major, other.minor, other.patch)\n",
    "        )"
   ]
  },
  {
   "cell_type": "code",
   "execution_count": 31,
   "metadata": {},
   "outputs": [
    {
     "data": {
      "text/plain": [
       "True"
      ]
     },
     "execution_count": 31,
     "metadata": {},
     "output_type": "execute_result"
    }
   ],
   "source": [
    "Version('0.32.52') < Version('0.93.2')"
   ]
  },
  {
   "cell_type": "code",
   "execution_count": 32,
   "metadata": {},
   "outputs": [
    {
     "data": {
      "text/plain": [
       "False"
      ]
     },
     "execution_count": 32,
     "metadata": {},
     "output_type": "execute_result"
    }
   ],
   "source": [
    "Version('10.0.0') < Version('9.99.999')"
   ]
  },
  {
   "cell_type": "code",
   "execution_count": 33,
   "metadata": {},
   "outputs": [
    {
     "data": {
      "text/plain": [
       "[Version('0.9.4'),\n",
       " Version('0.95.3'),\n",
       " Version('0.10.5'),\n",
       " Version('0.9.34'),\n",
       " Version('0.10.42'),\n",
       " Version('1.4.2')]"
      ]
     },
     "execution_count": 33,
     "metadata": {},
     "output_type": "execute_result"
    }
   ],
   "source": [
    "version_objs = [Version(v) for v in versions]\n",
    "version_objs"
   ]
  },
  {
   "cell_type": "code",
   "execution_count": 34,
   "metadata": {},
   "outputs": [
    {
     "data": {
      "text/plain": [
       "[Version('0.9.4'),\n",
       " Version('0.9.34'),\n",
       " Version('0.10.5'),\n",
       " Version('0.10.42'),\n",
       " Version('0.95.3'),\n",
       " Version('1.4.2')]"
      ]
     },
     "execution_count": 34,
     "metadata": {},
     "output_type": "execute_result"
    }
   ],
   "source": [
    "sorted(version_objs)"
   ]
  },
  {
   "cell_type": "code",
   "execution_count": 35,
   "metadata": {},
   "outputs": [
    {
     "data": {
      "text/plain": [
       "Version('1.4.2')"
      ]
     },
     "execution_count": 35,
     "metadata": {},
     "output_type": "execute_result"
    }
   ],
   "source": [
    "max(version_objs)"
   ]
  },
  {
   "cell_type": "code",
   "execution_count": 36,
   "metadata": {},
   "outputs": [
    {
     "data": {
      "text/plain": [
       "Version('0.9.4')"
      ]
     },
     "execution_count": 36,
     "metadata": {},
     "output_type": "execute_result"
    }
   ],
   "source": [
    "min(version_objs)"
   ]
  },
  {
   "cell_type": "markdown",
   "metadata": {},
   "source": [
    "Also, not everything can take a `key` argument:"
   ]
  },
  {
   "cell_type": "code",
   "execution_count": 37,
   "metadata": {},
   "outputs": [],
   "source": [
    "import heapq\n",
    "\n",
    "version_heap = version_objs[:]\n",
    "heapq.heapify(version_heap)"
   ]
  },
  {
   "cell_type": "code",
   "execution_count": 38,
   "metadata": {},
   "outputs": [
    {
     "name": "stdout",
     "output_type": "stream",
     "text": [
      "Version('0.9.4')\n",
      "Version('0.9.34')\n",
      "Version('0.10.5')\n",
      "Version('0.10.42')\n",
      "Version('0.95.3')\n",
      "Version('1.4.2')\n"
     ]
    }
   ],
   "source": [
    "while version_heap:\n",
    "    print(heapq.heappop(version_heap))"
   ]
  },
  {
   "cell_type": "code",
   "execution_count": null,
   "metadata": {},
   "outputs": [],
   "source": []
  },
  {
   "cell_type": "markdown",
   "metadata": {},
   "source": [
    "```\n",
    "\n",
    "\n",
    "\n",
    "\n",
    "\n",
    "\n",
    "\n",
    "\n",
    "\n",
    "\n",
    "\n",
    "\n",
    "\n",
    "\n",
    "\n",
    "\n",
    "```"
   ]
  },
  {
   "cell_type": "markdown",
   "metadata": {},
   "source": [
    "## Container Methods"
   ]
  },
  {
   "cell_type": "code",
   "execution_count": 39,
   "metadata": {},
   "outputs": [],
   "source": [
    "from contextlib import suppress\n",
    "\n",
    "class FallbackDict:\n",
    "    \"\"\"Look through a series of dicts in order\"\"\"\n",
    "    def __init__(self, *dicts):\n",
    "        self.dicts = dicts\n",
    "\n",
    "    def __getitem__(self, key):\n",
    "        for d in self.dicts:\n",
    "            with suppress(KeyError):  \n",
    "                return d[key]\n",
    "        raise KeyError(key)"
   ]
  },
  {
   "cell_type": "code",
   "execution_count": 40,
   "metadata": {},
   "outputs": [
    {
     "data": {
      "text/plain": [
       "'hello, chipy!'"
      ]
     },
     "execution_count": 40,
     "metadata": {},
     "output_type": "execute_result"
    }
   ],
   "source": [
    "dicts = [\n",
    "    {\"name\": \"chipy\", \"misc\": \"woot\"},\n",
    "    {\"misc\": \"etc\"},\n",
    "    {\"name\": \"unkown\", \"greeting\": \"hello\"},\n",
    "]\n",
    "fbd = FallbackDict(*dicts)\n",
    "\n",
    "f'{fbd[\"greeting\"]}, {fbd[\"name\"]}!'"
   ]
  },
  {
   "cell_type": "markdown",
   "metadata": {},
   "source": [
    "It's kinda like a dictionary, we can index into it and get items, but not much else."
   ]
  },
  {
   "cell_type": "code",
   "execution_count": 41,
   "metadata": {},
   "outputs": [
    {
     "ename": "TypeError",
     "evalue": "object of type 'FallbackDict' has no len()",
     "output_type": "error",
     "traceback": [
      "\u001b[0;31m---------------------------------------------------------------------------\u001b[0m",
      "\u001b[0;31mTypeError\u001b[0m                                 Traceback (most recent call last)",
      "\u001b[0;32m<ipython-input-41-af21837b06fb>\u001b[0m in \u001b[0;36m<module>\u001b[0;34m()\u001b[0m\n\u001b[0;32m----> 1\u001b[0;31m \u001b[0mlen\u001b[0m\u001b[0;34m(\u001b[0m\u001b[0mfbd\u001b[0m\u001b[0;34m)\u001b[0m  \u001b[0;31m# probably should be 3?\u001b[0m\u001b[0;34m\u001b[0m\u001b[0m\n\u001b[0m",
      "\u001b[0;31mTypeError\u001b[0m: object of type 'FallbackDict' has no len()"
     ]
    }
   ],
   "source": [
    "len(fbd)  # probably should be 3?"
   ]
  },
  {
   "cell_type": "code",
   "execution_count": 42,
   "metadata": {},
   "outputs": [
    {
     "ename": "AttributeError",
     "evalue": "'FallbackDict' object has no attribute 'values'",
     "output_type": "error",
     "traceback": [
      "\u001b[0;31m---------------------------------------------------------------------------\u001b[0m",
      "\u001b[0;31mAttributeError\u001b[0m                            Traceback (most recent call last)",
      "\u001b[0;32m<ipython-input-42-54faf6786513>\u001b[0m in \u001b[0;36m<module>\u001b[0;34m()\u001b[0m\n\u001b[0;32m----> 1\u001b[0;31m \u001b[0;34m[\u001b[0m\u001b[0mk\u001b[0m \u001b[0;32mfor\u001b[0m \u001b[0mk\u001b[0m \u001b[0;32min\u001b[0m \u001b[0mfbd\u001b[0m\u001b[0;34m.\u001b[0m\u001b[0mvalues\u001b[0m\u001b[0;34m(\u001b[0m\u001b[0;34m)\u001b[0m\u001b[0;34m]\u001b[0m  \u001b[0;31m# should be 'woot', 'hello', 'chipy'\u001b[0m\u001b[0;34m\u001b[0m\u001b[0m\n\u001b[0m",
      "\u001b[0;31mAttributeError\u001b[0m: 'FallbackDict' object has no attribute 'values'"
     ]
    }
   ],
   "source": [
    "[k for k in fbd.values()]  # should be 'woot', 'hello', 'chipy'"
   ]
  },
  {
   "cell_type": "code",
   "execution_count": 43,
   "metadata": {},
   "outputs": [
    {
     "ename": "KeyError",
     "evalue": "0",
     "output_type": "error",
     "traceback": [
      "\u001b[0;31m---------------------------------------------------------------------------\u001b[0m",
      "\u001b[0;31mKeyError\u001b[0m                                  Traceback (most recent call last)",
      "\u001b[0;32m<ipython-input-43-ac0350f0e56b>\u001b[0m in \u001b[0;36m<module>\u001b[0;34m()\u001b[0m\n\u001b[0;32m----> 1\u001b[0;31m \u001b[0;34m'name'\u001b[0m \u001b[0;32min\u001b[0m \u001b[0mfbd\u001b[0m  \u001b[0;31m# is a key in it?\u001b[0m\u001b[0;34m\u001b[0m\u001b[0m\n\u001b[0m",
      "\u001b[0;32m<ipython-input-39-ec621955500c>\u001b[0m in \u001b[0;36m__getitem__\u001b[0;34m(self, key)\u001b[0m\n\u001b[1;32m     10\u001b[0m             \u001b[0;32mwith\u001b[0m \u001b[0msuppress\u001b[0m\u001b[0;34m(\u001b[0m\u001b[0mKeyError\u001b[0m\u001b[0;34m)\u001b[0m\u001b[0;34m:\u001b[0m\u001b[0;34m\u001b[0m\u001b[0m\n\u001b[1;32m     11\u001b[0m                 \u001b[0;32mreturn\u001b[0m \u001b[0md\u001b[0m\u001b[0;34m[\u001b[0m\u001b[0mkey\u001b[0m\u001b[0;34m]\u001b[0m\u001b[0;34m\u001b[0m\u001b[0m\n\u001b[0;32m---> 12\u001b[0;31m         \u001b[0;32mraise\u001b[0m \u001b[0mKeyError\u001b[0m\u001b[0;34m(\u001b[0m\u001b[0mkey\u001b[0m\u001b[0;34m)\u001b[0m\u001b[0;34m\u001b[0m\u001b[0m\n\u001b[0m",
      "\u001b[0;31mKeyError\u001b[0m: 0"
     ]
    }
   ],
   "source": [
    "'name' in fbd  # is a key in it?"
   ]
  },
  {
   "cell_type": "code",
   "execution_count": 44,
   "metadata": {},
   "outputs": [
    {
     "ename": "KeyError",
     "evalue": "0",
     "output_type": "error",
     "traceback": [
      "\u001b[0;31m---------------------------------------------------------------------------\u001b[0m",
      "\u001b[0;31mKeyError\u001b[0m                                  Traceback (most recent call last)",
      "\u001b[0;32m<ipython-input-44-5fdcf5942ff9>\u001b[0m in \u001b[0;36m<module>\u001b[0;34m()\u001b[0m\n\u001b[1;32m      1\u001b[0m \u001b[0;31m# would be nice to convert to a normal dict if we wanted to JSON serialize it\u001b[0m\u001b[0;34m\u001b[0m\u001b[0;34m\u001b[0m\u001b[0m\n\u001b[0;32m----> 2\u001b[0;31m \u001b[0mdict\u001b[0m\u001b[0;34m(\u001b[0m\u001b[0mfbd\u001b[0m\u001b[0;34m)\u001b[0m\u001b[0;34m\u001b[0m\u001b[0m\n\u001b[0m",
      "\u001b[0;32m<ipython-input-39-ec621955500c>\u001b[0m in \u001b[0;36m__getitem__\u001b[0;34m(self, key)\u001b[0m\n\u001b[1;32m     10\u001b[0m             \u001b[0;32mwith\u001b[0m \u001b[0msuppress\u001b[0m\u001b[0;34m(\u001b[0m\u001b[0mKeyError\u001b[0m\u001b[0;34m)\u001b[0m\u001b[0;34m:\u001b[0m\u001b[0;34m\u001b[0m\u001b[0m\n\u001b[1;32m     11\u001b[0m                 \u001b[0;32mreturn\u001b[0m \u001b[0md\u001b[0m\u001b[0;34m[\u001b[0m\u001b[0mkey\u001b[0m\u001b[0;34m]\u001b[0m\u001b[0;34m\u001b[0m\u001b[0m\n\u001b[0;32m---> 12\u001b[0;31m         \u001b[0;32mraise\u001b[0m \u001b[0mKeyError\u001b[0m\u001b[0;34m(\u001b[0m\u001b[0mkey\u001b[0m\u001b[0;34m)\u001b[0m\u001b[0;34m\u001b[0m\u001b[0m\n\u001b[0m",
      "\u001b[0;31mKeyError\u001b[0m: 0"
     ]
    }
   ],
   "source": [
    "# would be nice to convert to a normal dict if we wanted to JSON serialize it\n",
    "dict(fbd)"
   ]
  },
  {
   "cell_type": "markdown",
   "metadata": {},
   "source": [
    "### [Abstract Base Classes for Containers](https://docs.python.org/3/library/collections.abc.html) (`collections.abc`)\n",
    "\n",
    "Amplify your magics! If you implement the abstract methods required by the type, it can provide additional mixin methods for free. Lets make our `FallbackDict` more `dict`-like by using the `Mapping` ABC (read-only dict)"
   ]
  },
  {
   "cell_type": "code",
   "execution_count": 45,
   "metadata": {},
   "outputs": [],
   "source": [
    "import collections.abc\n",
    "\n",
    "\n",
    "class FallbackDictM(FallbackDict, collections.abc.Mapping):\n",
    "    # __init__, __getitem__ from FallbackDict\n",
    "    \n",
    "    def _all_keys(self):\n",
    "        all_keys = set()\n",
    "        for d in self.dicts:\n",
    "            all_keys |= set(d)\n",
    "        return all_keys\n",
    "    \n",
    "    def __len__(self):\n",
    "        return len(self._all_keys())\n",
    "\n",
    "    def __iter__(self):\n",
    "        for key in self._all_keys():\n",
    "            yield key"
   ]
  },
  {
   "cell_type": "code",
   "execution_count": 46,
   "metadata": {},
   "outputs": [],
   "source": [
    "fbdm = FallbackDictM(*dicts)"
   ]
  },
  {
   "cell_type": "code",
   "execution_count": 47,
   "metadata": {},
   "outputs": [
    {
     "name": "stdout",
     "output_type": "stream",
     "text": [
      "3\n",
      "name chipy\n",
      "misc woot\n",
      "greeting hello\n"
     ]
    }
   ],
   "source": [
    "print(len(fbdm))  # directly hitting __len__\n",
    "for key in fbdm:  # hits __iter__\n",
    "    print(key, fbdm[key])"
   ]
  },
  {
   "cell_type": "code",
   "execution_count": 48,
   "metadata": {},
   "outputs": [
    {
     "data": {
      "text/plain": [
       "['chipy', 'woot', 'hello']"
      ]
     },
     "execution_count": 48,
     "metadata": {},
     "output_type": "execute_result"
    }
   ],
   "source": [
    "list(fbdm.values())  # values method for free"
   ]
  },
  {
   "cell_type": "code",
   "execution_count": 49,
   "metadata": {},
   "outputs": [
    {
     "data": {
      "text/plain": [
       "True"
      ]
     },
     "execution_count": 49,
     "metadata": {},
     "output_type": "execute_result"
    }
   ],
   "source": [
    "'name' in fbdm  # __contains__ for free"
   ]
  },
  {
   "cell_type": "code",
   "execution_count": 50,
   "metadata": {},
   "outputs": [
    {
     "data": {
      "text/plain": [
       "{'greeting': 'hello', 'misc': 'woot', 'name': 'chipy'}"
      ]
     },
     "execution_count": 50,
     "metadata": {},
     "output_type": "execute_result"
    }
   ],
   "source": [
    "flattened = dict(fbdm)\n",
    "flattened"
   ]
  },
  {
   "cell_type": "code",
   "execution_count": 51,
   "metadata": {},
   "outputs": [
    {
     "data": {
      "text/plain": [
       "True"
      ]
     },
     "execution_count": 51,
     "metadata": {},
     "output_type": "execute_result"
    }
   ],
   "source": [
    "flattened == fbdm  # __eq__ for free"
   ]
  },
  {
   "cell_type": "code",
   "execution_count": null,
   "metadata": {},
   "outputs": [],
   "source": []
  },
  {
   "cell_type": "markdown",
   "metadata": {},
   "source": [
    "```\n",
    "\n",
    "\n",
    "\n",
    "\n",
    "\n",
    "\n",
    "\n",
    "\n",
    "\n",
    "\n",
    "\n",
    "\n",
    "\n",
    "\n",
    "\n",
    "\n",
    "```"
   ]
  },
  {
   "cell_type": "code",
   "execution_count": 52,
   "metadata": {},
   "outputs": [],
   "source": [
    "import re\n",
    "import requests\n",
    "\n",
    "def get_xkcd_hotlink(comic_number):\n",
    "    \"\"\"Extract the embedded URL for an XKCD comic (no magic here)\"\"\"\n",
    "    match = re.search(\n",
    "        r\"Image URL \\(for hotlinking/embedding\\):\\s*(?P<url>http.*(jpg|png))\", \n",
    "        requests.get(f\"https://xkcd.com/{comic_number}/\").text,\n",
    "    )\n",
    "    if match:\n",
    "        return match.groupdict()[\"url\"]"
   ]
  },
  {
   "cell_type": "markdown",
   "metadata": {},
   "source": [
    "## Proprietary Magic\n",
    "\n",
    "https://ipython.readthedocs.io/en/stable/config/integrating.html#rich-display\n",
    "\n",
    "IPython notebook can display richer representations of objects. To use this, you can define any of a number of `_repr_*_()` methods. Note that these are surrounded by single, not double underscores.\n",
    "\n",
    "The notebook can display `svg`, `png`, `jpeg`, `html`, `javascript`, `markdown` and `latex`. If the methods don’t exist, or return `None`, it falls back to a standard `repr()`."
   ]
  },
  {
   "cell_type": "code",
   "execution_count": 53,
   "metadata": {},
   "outputs": [],
   "source": [
    "class XKCDViewer:        \n",
    "    def __getitem__(self, key):\n",
    "        url = get_xkcd_hotlink(key)\n",
    "        if url is None:\n",
    "            raise KeyError(\"couldn't find XKCD comic with that number\")\n",
    "        return XKCDComic(url)\n",
    "\n",
    "\n",
    "class XKCDComic:\n",
    "    def __init__(self, url):\n",
    "        self.url = url\n",
    "\n",
    "    def _repr_html_(self):\n",
    "        return f\"<img src='{self.url}'>\"\n",
    "\n",
    "\n",
    "xkcd = XKCDViewer()"
   ]
  },
  {
   "cell_type": "code",
   "execution_count": 55,
   "metadata": {},
   "outputs": [
    {
     "data": {
      "text/html": [
       "<img src='https://imgs.xkcd.com/comics/python.png'>"
      ],
      "text/plain": [
       "<__main__.XKCDComic at 0x7fbc246168d0>"
      ]
     },
     "execution_count": 55,
     "metadata": {},
     "output_type": "execute_result"
    }
   ],
   "source": [
    "ANTIGRAVITY = 353\n",
    "BOBBY_TABLES = 327\n",
    "PYTHON_ENV = 1987\n",
    "SANDWICH = 149\n",
    "\n",
    "xkcd[ANTIGRAVITY]"
   ]
  },
  {
   "cell_type": "code",
   "execution_count": null,
   "metadata": {},
   "outputs": [],
   "source": []
  },
  {
   "cell_type": "markdown",
   "metadata": {},
   "source": [
    "```\n",
    "\n",
    "\n",
    "\n",
    "\n",
    "\n",
    "\n",
    "\n",
    "\n",
    "\n",
    "\n",
    "\n",
    "\n",
    "\n",
    "\n",
    "\n",
    "\n",
    "```"
   ]
  },
  {
   "cell_type": "markdown",
   "metadata": {},
   "source": [
    "## Bonus: Context Managers"
   ]
  },
  {
   "cell_type": "code",
   "execution_count": 56,
   "metadata": {},
   "outputs": [],
   "source": [
    "import traceback\n",
    "\n",
    "class expect_exception:\n",
    "    \"\"\"\n",
    "    Expect an exception and trap it. Helps run all of a notebook\n",
    "    that may have intentional errors for pedagogical reasons\n",
    "    \"\"\"\n",
    "    def __init__(self, *exc_types):\n",
    "        self.exc_types = exc_types\n",
    "        \n",
    "    def __enter__(self):\n",
    "        return self\n",
    "    \n",
    "    def __exit__(self, exc_type, exc_value, tb):\n",
    "        if exc_type is None:\n",
    "            raise RuntimeError('expected exception did not occur!')\n",
    "        if issubclass(exc_type, self.exc_types):\n",
    "            traceback.print_exception(exc_type, exc_value, tb)\n",
    "            return True"
   ]
  },
  {
   "cell_type": "code",
   "execution_count": 57,
   "metadata": {},
   "outputs": [
    {
     "name": "stderr",
     "output_type": "stream",
     "text": [
      "Traceback (most recent call last):\n",
      "  File \"<ipython-input-57-2d1a4b0a29e5>\", line 2, in <module>\n",
      "    DigitA(3) + 3\n",
      "  File \"<ipython-input-13-94ae7d87db55>\", line 5, in _method\n",
      "    result = method(self, *args)\n",
      "  File \"<ipython-input-14-1411024cd395>\", line 12, in __add__\n",
      "    return self.value * 10 + other.value\n",
      "AttributeError: 'int' object has no attribute 'value'\n"
     ]
    }
   ],
   "source": [
    "with expect_exception(Exception):\n",
    "    DigitA(3) + 3"
   ]
  },
  {
   "cell_type": "code",
   "execution_count": 58,
   "metadata": {},
   "outputs": [],
   "source": [
    "class Suppressor:\n",
    "    \"\"\"\n",
    "    https://docs.python.org/3/reference/datamodel.html#with-statement-context-managers\n",
    "    \"\"\"\n",
    "    def __init__(self, exc_ignore):\n",
    "        self.exc_ignore = exc_ignore\n",
    "\n",
    "    def __enter__(self):\n",
    "        return self\n",
    "    \n",
    "    def __exit__(self, exc_type, exc_value, traceback):\n",
    "        \"\"\"\n",
    "        ... If an exception is supplied, and the method wishes to suppress the \n",
    "        exception, it should return a true value. ...\n",
    "        \"\"\"\n",
    "        return (\n",
    "            exc_type is not None \n",
    "            and issubclass(exc_type, self.exc_ignore)\n",
    "        )"
   ]
  },
  {
   "cell_type": "code",
   "execution_count": 59,
   "metadata": {},
   "outputs": [
    {
     "name": "stdout",
     "output_type": "stream",
     "text": [
      "abc\n",
      "mmmkay\n"
     ]
    }
   ],
   "source": [
    "with Suppressor(IndexError):\n",
    "    print('abcde'[:3])  # works normally\n",
    "\n",
    "with Suppressor(IndexError):\n",
    "    print('abcde'[1000])  # raises an error, but it gets suppressed\n",
    "    \n",
    "print('mmmkay')"
   ]
  },
  {
   "cell_type": "code",
   "execution_count": 60,
   "metadata": {
    "scrolled": true
   },
   "outputs": [
    {
     "ename": "IndexError",
     "evalue": "string index out of range",
     "output_type": "error",
     "traceback": [
      "\u001b[0;31m---------------------------------------------------------------------------\u001b[0m",
      "\u001b[0;31mIndexError\u001b[0m                                Traceback (most recent call last)",
      "\u001b[0;32m<ipython-input-60-237bc03c9b44>\u001b[0m in \u001b[0;36m<module>\u001b[0;34m()\u001b[0m\n\u001b[1;32m      1\u001b[0m \u001b[0;32mwith\u001b[0m \u001b[0mSuppressor\u001b[0m\u001b[0;34m(\u001b[0m\u001b[0mRuntimeError\u001b[0m\u001b[0;34m)\u001b[0m\u001b[0;34m:\u001b[0m\u001b[0;34m\u001b[0m\u001b[0m\n\u001b[0;32m----> 2\u001b[0;31m     \u001b[0;34m'abcde'\u001b[0m\u001b[0;34m[\u001b[0m\u001b[0;36m1000\u001b[0m\u001b[0;34m]\u001b[0m  \u001b[0;31m# raises the wrong error\u001b[0m\u001b[0;34m\u001b[0m\u001b[0m\n\u001b[0m",
      "\u001b[0;31mIndexError\u001b[0m: string index out of range"
     ]
    }
   ],
   "source": [
    "with Suppressor(RuntimeError):\n",
    "    'abcde'[1000]  # raises the wrong error"
   ]
  },
  {
   "cell_type": "markdown",
   "metadata": {},
   "source": [
    "We basically re-implemented [`contextlib.suppress`](https://docs.python.org/3/library/contextlib.html#contextlib.suppress) [(source)](https://github.com/python/cpython/blob/cca4eec3c0/Lib/contextlib.py#L342) from the standard lib."
   ]
  },
  {
   "cell_type": "code",
   "execution_count": null,
   "metadata": {},
   "outputs": [],
   "source": []
  }
 ],
 "metadata": {
  "kernelspec": {
   "display_name": "Python 3",
   "language": "python",
   "name": "python3"
  },
  "language_info": {
   "codemirror_mode": {
    "name": "ipython",
    "version": 3
   },
   "file_extension": ".py",
   "mimetype": "text/x-python",
   "name": "python",
   "nbconvert_exporter": "python",
   "pygments_lexer": "ipython3",
   "version": "3.6.4"
  }
 },
 "nbformat": 4,
 "nbformat_minor": 2
}
