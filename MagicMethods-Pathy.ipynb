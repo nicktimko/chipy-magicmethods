{
 "cells": [
  {
   "cell_type": "markdown",
   "metadata": {},
   "source": [
    "## ✨ There's a little magic in everything ✨"
   ]
  },
  {
   "cell_type": "code",
   "execution_count": null,
   "metadata": {},
   "outputs": [],
   "source": [
    "obj = object()"
   ]
  },
  {
   "cell_type": "markdown",
   "metadata": {},
   "source": [
    "That called `object.__init__`"
   ]
  },
  {
   "cell_type": "code",
   "execution_count": null,
   "metadata": {},
   "outputs": [],
   "source": [
    "obj"
   ]
  },
  {
   "cell_type": "markdown",
   "metadata": {},
   "source": [
    "That called `obj.__repr__`"
   ]
  },
  {
   "cell_type": "code",
   "execution_count": null,
   "metadata": {},
   "outputs": [],
   "source": [
    "str(obj)"
   ]
  },
  {
   "cell_type": "markdown",
   "metadata": {},
   "source": [
    "That called `obj.__str__` (which calls `obj.__repr__` as a fallback)"
   ]
  },
  {
   "cell_type": "markdown",
   "metadata": {},
   "source": [
    "```\n",
    "\n",
    "\n",
    "\n",
    "\n",
    "\n",
    "\n",
    "\n",
    "\n",
    "\n",
    "\n",
    "\n",
    "\n",
    "\n",
    "\n",
    "\n",
    "\n",
    "```"
   ]
  },
  {
   "cell_type": "markdown",
   "metadata": {},
   "source": [
    "## Stringy Types\n",
    "\n",
    "Implementing [`__repr__`](https://docs.python.org/3/reference/datamodel.html#object.__repr__) and [`__str__`](https://docs.python.org/3/reference/datamodel.html#object.__str__) can often be useful when debugging or manipulating objects interactively (like via Notebooks or REPLs)"
   ]
  },
  {
   "cell_type": "code",
   "execution_count": null,
   "metadata": {},
   "outputs": [],
   "source": [
    "class Stringy:\n",
    "    def __init__(self, name):\n",
    "        self.name = name\n",
    "\n",
    "    def __repr__(self) -> str:\n",
    "        \"\"\"\n",
    "        ...If at all possible, this should look like a valid Python expression \n",
    "        that could be used to recreate an object with the same value. If this \n",
    "        is not possible, a string of the form <...some useful description...> \n",
    "        should be returned. \n",
    "        \"\"\"\n",
    "        return f\"{self.__class__.__name__}('{self.name}')\"\n",
    "    \n",
    "    def __str__(self) -> str:\n",
    "        \"\"\"        \n",
    "        This method differs from `__repr__()` in that there is no expectation \n",
    "        that `__str__()` returns a valid Python expression: a more convenient \n",
    "        or concise representation can be used.\n",
    "        \"\"\"\n",
    "        return f\"Name: {self.name}\""
   ]
  },
  {
   "cell_type": "code",
   "execution_count": null,
   "metadata": {},
   "outputs": [],
   "source": [
    "a = Stringy('apple')\n",
    "a"
   ]
  },
  {
   "cell_type": "code",
   "execution_count": null,
   "metadata": {},
   "outputs": [],
   "source": [
    "repr(a)"
   ]
  },
  {
   "cell_type": "code",
   "execution_count": null,
   "metadata": {
    "scrolled": true
   },
   "outputs": [],
   "source": [
    "str(a)"
   ]
  },
  {
   "cell_type": "markdown",
   "metadata": {},
   "source": [
    "---\n",
    "\n",
    "Why not something like:"
   ]
  },
  {
   "cell_type": "code",
   "execution_count": null,
   "metadata": {},
   "outputs": [],
   "source": [
    "class StringyToo:\n",
    "    def __init__(self, name):\n",
    "        self.name = name\n",
    "        \n",
    "    def to_string(self):\n",
    "        return f\"Name: {self.name}\""
   ]
  },
  {
   "cell_type": "code",
   "execution_count": null,
   "metadata": {},
   "outputs": [],
   "source": [
    "b = StringyToo('cheese')\n",
    "b"
   ]
  },
  {
   "cell_type": "code",
   "execution_count": null,
   "metadata": {},
   "outputs": [],
   "source": [
    "b.to_string()"
   ]
  },
  {
   "cell_type": "code",
   "execution_count": null,
   "metadata": {},
   "outputs": [],
   "source": []
  },
  {
   "cell_type": "markdown",
   "metadata": {},
   "source": [
    "```\n",
    "\n",
    "\n",
    "\n",
    "\n",
    "\n",
    "\n",
    "\n",
    "\n",
    "\n",
    "\n",
    "\n",
    "\n",
    "\n",
    "\n",
    "\n",
    "\n",
    "```"
   ]
  },
  {
   "cell_type": "markdown",
   "metadata": {},
   "source": [
    "### Quacks like...\n",
    "\n",
    "String-like objects can be used in place of other strings"
   ]
  },
  {
   "cell_type": "code",
   "execution_count": null,
   "metadata": {},
   "outputs": [],
   "source": [
    "f\"I have an object. {b}.\""
   ]
  },
  {
   "cell_type": "code",
   "execution_count": null,
   "metadata": {},
   "outputs": [],
   "source": [
    "f\"I have an object. {a}. It was made with: {a!r}\""
   ]
  },
  {
   "cell_type": "code",
   "execution_count": null,
   "metadata": {},
   "outputs": [],
   "source": []
  },
  {
   "cell_type": "markdown",
   "metadata": {},
   "source": [
    "```\n",
    "\n",
    "\n",
    "\n",
    "\n",
    "\n",
    "\n",
    "\n",
    "\n",
    "\n",
    "\n",
    "\n",
    "\n",
    "\n",
    "\n",
    "\n",
    "\n",
    "```"
   ]
  },
  {
   "cell_type": "code",
   "execution_count": null,
   "metadata": {},
   "outputs": [],
   "source": [
    "def verbose(method):\n",
    "    \"\"\"Wrapper to print the method name, arguments, and result of a call\"\"\"\n",
    "    def _method(self, *args):\n",
    "        arg_str = ', '.join(repr(a) for a in args)\n",
    "        result = method(self, *args)\n",
    "        print(f'call: {self!r}.{method.__name__}({arg_str}) => {result!r}')\n",
    "        return result\n",
    "    return _method"
   ]
  },
  {
   "cell_type": "markdown",
   "metadata": {},
   "source": [
    "## Math-able Types\n",
    "\n",
    "Implementing the mathematical magic methods can let you use any of the infix operators to manipulate your objects as makes sense.\n",
    "\n",
    "    x + y     __add__             x & y   __and__\n",
    "    x - y     __sub__             x | y   __or__      \n",
    "    x * y     __mul__             x ^ y   __xor__\n",
    "    x / y     __truediv__         x << y  __lshift__\n",
    "    x // y    __floordiv__        x >> y  __rshift__\n",
    "    x ** y    __pow__\n",
    "    x % y     __mod__\n",
    "    x @ y     __matmul__"
   ]
  },
  {
   "cell_type": "code",
   "execution_count": null,
   "metadata": {},
   "outputs": [],
   "source": [
    "class PathyBase:\n",
    "    def __init__(self, path):\n",
    "        self.path = path\n",
    "\n",
    "    def __repr__(self):\n",
    "        return f\"{self.__class__.__name__}({self.path!r})\"\n",
    "\n",
    "\n",
    "class PathA(PathyBase):\n",
    "    @verbose\n",
    "    def __truediv__(self, other) -> str:\n",
    "        return self.path + '/' + other.path"
   ]
  },
  {
   "cell_type": "code",
   "execution_count": null,
   "metadata": {},
   "outputs": [],
   "source": [
    "PathA('aaa') / PathA('bbb')"
   ]
  },
  {
   "cell_type": "code",
   "execution_count": null,
   "metadata": {},
   "outputs": [],
   "source": [
    "PathA('aaa').__truediv__(PathA('bbb'))"
   ]
  },
  {
   "cell_type": "markdown",
   "metadata": {},
   "source": [
    "---"
   ]
  },
  {
   "cell_type": "code",
   "execution_count": null,
   "metadata": {},
   "outputs": [],
   "source": [
    "class PathB(PathyBase):\n",
    "    @verbose\n",
    "    def __truediv__(self, other) -> int:\n",
    "        if isinstance(other, self.__class__):\n",
    "            other_value = other.path\n",
    "        else:\n",
    "            other_value = other\n",
    "\n",
    "        return self.__class__(self.path + '/' + other_value)"
   ]
  },
  {
   "cell_type": "code",
   "execution_count": null,
   "metadata": {},
   "outputs": [],
   "source": [
    "PathB('ccc') / 'ddd'"
   ]
  },
  {
   "cell_type": "code",
   "execution_count": null,
   "metadata": {},
   "outputs": [],
   "source": [
    "# doesn't work\n",
    "'ccc' / PathB('ddd')"
   ]
  },
  {
   "cell_type": "code",
   "execution_count": null,
   "metadata": {},
   "outputs": [],
   "source": [
    "# also doesn't work (same error)\n",
    "result = 'usr' / PathB('bin') / 'python'"
   ]
  },
  {
   "cell_type": "code",
   "execution_count": null,
   "metadata": {
    "scrolled": true
   },
   "outputs": [],
   "source": [
    "# equivalent\n",
    "_intermediate: str = 'usr' / PathB('bin')\n",
    "result = _intermediate / 'python'"
   ]
  },
  {
   "cell_type": "markdown",
   "metadata": {},
   "source": [
    "---\n",
    "\n",
    "To support those operand type(s), we use the [*reflected* methods](https://docs.python.org/3/reference/datamodel.html?#object.__radd__), `__r*__`. When the \"forward\" direction fails, Python will attempt to call it the other way, so `'usr' + PathB('lib')` is effectively something like:\n",
    "\n",
    "```python\n",
    "try:\n",
    "    'usr'.__truediv__(PathB('lib'))   # the str type doesn't know what a Path is\n",
    "except TypeError:\n",
    "    PathB('lib').__rtruediv__('usr')  # but we have the option to do something!\n",
    "```"
   ]
  },
  {
   "cell_type": "code",
   "execution_count": null,
   "metadata": {},
   "outputs": [],
   "source": [
    "class PathC(PathB):\n",
    "    # __truediv__ from PathB\n",
    "\n",
    "    @verbose\n",
    "    def __rtruediv__(self, other) -> str:\n",
    "        \"\"\"\n",
    "        Note that the order of arguments are reversed on the call; \n",
    "        so `self` will be the object *after* the infix operator, and \n",
    "        `other` the one before.\n",
    "        \n",
    "        We're also assuming that other is an integer, Path / Path\n",
    "        operations will just use __truediv__ from the first one.\n",
    "        \"\"\"\n",
    "        return self.__class__(other + '/' + self.path)"
   ]
  },
  {
   "cell_type": "code",
   "execution_count": null,
   "metadata": {},
   "outputs": [],
   "source": [
    "'bin' / PathC('bash')"
   ]
  },
  {
   "cell_type": "code",
   "execution_count": null,
   "metadata": {},
   "outputs": [],
   "source": [
    "PathC('home') / PathC('nick')"
   ]
  },
  {
   "cell_type": "code",
   "execution_count": null,
   "metadata": {},
   "outputs": [],
   "source": [
    "PathC('home') / 'nick' / PathC('Code')"
   ]
  },
  {
   "cell_type": "code",
   "execution_count": null,
   "metadata": {
    "scrolled": true
   },
   "outputs": [],
   "source": [
    "PathC('home') / 'nick' / 'Code' / 'offhours/chipy'"
   ]
  },
  {
   "cell_type": "markdown",
   "metadata": {},
   "source": [
    "### Abstract Mixins\n",
    "\n",
    "The built-in `open()` accepts objects that are [`os.PathLike`](https://docs.python.org/3/library/os.html#os.PathLike). `PathLike` is an **abstract base class** that objects can define to specify how they are path-like."
   ]
  },
  {
   "cell_type": "code",
   "execution_count": null,
   "metadata": {},
   "outputs": [],
   "source": [
    "import os\n",
    "\n",
    "class PathD(PathC, os.PathLike):\n",
    "    @verbose\n",
    "    def __fspath__(self):\n",
    "        return os.path.expanduser(self.path)"
   ]
  },
  {
   "cell_type": "code",
   "execution_count": null,
   "metadata": {
    "scrolled": true
   },
   "outputs": [],
   "source": [
    "print('creating path')\n",
    "ignore = PathD('~') / '.gitignore_global'\n",
    "\n",
    "print('opening it!')\n",
    "with open(ignore) as f:\n",
    "    print('\\n==============\\nFile Contents:\\n==============')\n",
    "    for line in f:\n",
    "        print(line)"
   ]
  },
  {
   "cell_type": "markdown",
   "metadata": {},
   "source": [
    "We've created a hacky version of [`pathlib`](https://docs.python.org/3/library/pathlib.html), a standard library package.  (Use that one instead.)"
   ]
  },
  {
   "cell_type": "code",
   "execution_count": null,
   "metadata": {},
   "outputs": [],
   "source": []
  },
  {
   "cell_type": "markdown",
   "metadata": {},
   "source": [
    "```\n",
    "\n",
    "\n",
    "\n",
    "\n",
    "\n",
    "\n",
    "\n",
    "\n",
    "\n",
    "\n",
    "\n",
    "\n",
    "\n",
    "\n",
    "\n",
    "\n",
    "```"
   ]
  },
  {
   "cell_type": "markdown",
   "metadata": {},
   "source": [
    "## Orderable Types"
   ]
  },
  {
   "cell_type": "code",
   "execution_count": null,
   "metadata": {},
   "outputs": [],
   "source": [
    "versions = [\n",
    "    '0.9.4',\n",
    "    '0.95.3',\n",
    "    '0.10.5',\n",
    "    '0.9.34',\n",
    "    '0.10.42',\n",
    "    '1.4.2',\n",
    "]"
   ]
  },
  {
   "cell_type": "code",
   "execution_count": null,
   "metadata": {},
   "outputs": [],
   "source": [
    "sorted(versions)"
   ]
  },
  {
   "cell_type": "markdown",
   "metadata": {},
   "source": [
    "How can we sort these? We could pass a `key` argument into `sorted()`:"
   ]
  },
  {
   "cell_type": "code",
   "execution_count": null,
   "metadata": {},
   "outputs": [],
   "source": [
    "sorted(versions, key=lambda i: [int(p) for p in i.split('.')])"
   ]
  },
  {
   "cell_type": "code",
   "execution_count": null,
   "metadata": {},
   "outputs": [],
   "source": [
    "class Version:\n",
    "    def __init__(self, version):\n",
    "        self.version = version\n",
    "        self.major, self.minor, self.patch = (int(x) for x in version.split('.'))\n",
    "    \n",
    "    def __repr__(self):\n",
    "        return f'{self.__class__.__name__}({self.version!r})'\n",
    "\n",
    "    @verbose\n",
    "    def __lt__(self, other):\n",
    "        return (\n",
    "            (self.major, self.minor, self.patch) \n",
    "            < (other.major, other.minor, other.patch)\n",
    "        )"
   ]
  },
  {
   "cell_type": "code",
   "execution_count": null,
   "metadata": {},
   "outputs": [],
   "source": [
    "Version('0.32.52') < Version('0.93.2')"
   ]
  },
  {
   "cell_type": "code",
   "execution_count": null,
   "metadata": {},
   "outputs": [],
   "source": [
    "Version('10.0.0') < Version('9.99.999')"
   ]
  },
  {
   "cell_type": "code",
   "execution_count": null,
   "metadata": {},
   "outputs": [],
   "source": [
    "version_objs = [Version(v) for v in versions]\n",
    "version_objs"
   ]
  },
  {
   "cell_type": "code",
   "execution_count": null,
   "metadata": {},
   "outputs": [],
   "source": [
    "sorted(version_objs)"
   ]
  },
  {
   "cell_type": "code",
   "execution_count": null,
   "metadata": {},
   "outputs": [],
   "source": [
    "max(version_objs)"
   ]
  },
  {
   "cell_type": "code",
   "execution_count": null,
   "metadata": {},
   "outputs": [],
   "source": [
    "min(version_objs)"
   ]
  },
  {
   "cell_type": "markdown",
   "metadata": {},
   "source": [
    "Also, not everything can take a `key` argument:"
   ]
  },
  {
   "cell_type": "code",
   "execution_count": null,
   "metadata": {},
   "outputs": [],
   "source": [
    "import heapq\n",
    "\n",
    "version_heap = version_objs[:]\n",
    "heapq.heapify(version_heap)"
   ]
  },
  {
   "cell_type": "code",
   "execution_count": null,
   "metadata": {},
   "outputs": [],
   "source": [
    "while version_heap:\n",
    "    print(heapq.heappop(version_heap))"
   ]
  },
  {
   "cell_type": "code",
   "execution_count": null,
   "metadata": {},
   "outputs": [],
   "source": []
  },
  {
   "cell_type": "markdown",
   "metadata": {},
   "source": [
    "```\n",
    "\n",
    "\n",
    "\n",
    "\n",
    "\n",
    "\n",
    "\n",
    "\n",
    "\n",
    "\n",
    "\n",
    "\n",
    "\n",
    "\n",
    "\n",
    "\n",
    "```"
   ]
  },
  {
   "cell_type": "markdown",
   "metadata": {},
   "source": [
    "## Container Methods"
   ]
  },
  {
   "cell_type": "code",
   "execution_count": null,
   "metadata": {},
   "outputs": [],
   "source": [
    "from contextlib import suppress\n",
    "\n",
    "class FallbackDict:\n",
    "    \"\"\"Look through a series of dicts in order\"\"\"\n",
    "    def __init__(self, *dicts):\n",
    "        self.dicts = dicts\n",
    "\n",
    "    def __getitem__(self, key):\n",
    "        for d in self.dicts:\n",
    "            with suppress(KeyError):  \n",
    "                return d[key]\n",
    "        raise KeyError(key)"
   ]
  },
  {
   "cell_type": "code",
   "execution_count": null,
   "metadata": {},
   "outputs": [],
   "source": [
    "dicts = [\n",
    "    {\"name\": \"chipy\", \"misc\": \"woot\"},\n",
    "    {\"misc\": \"etc\"},\n",
    "    {\"name\": \"unkown\", \"greeting\": \"hello\"},\n",
    "]\n",
    "fbd = FallbackDict(*dicts)\n",
    "\n",
    "f'{fbd[\"greeting\"]}, {fbd[\"name\"]}!'"
   ]
  },
  {
   "cell_type": "markdown",
   "metadata": {},
   "source": [
    "It's kinda like a dictionary, we can index into it and get items, but not much else."
   ]
  },
  {
   "cell_type": "code",
   "execution_count": null,
   "metadata": {},
   "outputs": [],
   "source": [
    "len(fbd)  # probably should be 3?"
   ]
  },
  {
   "cell_type": "code",
   "execution_count": null,
   "metadata": {},
   "outputs": [],
   "source": [
    "[k for k in fbd.values()]  # should be 'woot', 'hello', 'chipy'"
   ]
  },
  {
   "cell_type": "code",
   "execution_count": null,
   "metadata": {},
   "outputs": [],
   "source": [
    "'name' in fbd  # is a key in it?"
   ]
  },
  {
   "cell_type": "code",
   "execution_count": null,
   "metadata": {},
   "outputs": [],
   "source": [
    "# would be nice to convert to a normal dict if we wanted to JSON serialize it\n",
    "dict(fbd)"
   ]
  },
  {
   "cell_type": "markdown",
   "metadata": {},
   "source": [
    "### [Abstract Base Classes for Containers](https://docs.python.org/3/library/collections.abc.html) (`collections.abc`)\n",
    "\n",
    "Amplify your magics! If you implement the abstract methods required by the type, it can provide additional mixin methods for free. Lets make our `FallbackDict` more `dict`-like by using the `Mapping` ABC (read-only dict)"
   ]
  },
  {
   "cell_type": "code",
   "execution_count": null,
   "metadata": {},
   "outputs": [],
   "source": [
    "import collections.abc\n",
    "\n",
    "\n",
    "class FallbackDictM(FallbackDict, collections.abc.Mapping):\n",
    "    # __init__, __getitem__ from FallbackDict\n",
    "    \n",
    "    def _all_keys(self):\n",
    "        all_keys = set()\n",
    "        for d in self.dicts:\n",
    "            all_keys |= set(d)\n",
    "        return all_keys\n",
    "    \n",
    "    def __len__(self):\n",
    "        return len(self._all_keys())\n",
    "\n",
    "    def __iter__(self):\n",
    "        for key in self._all_keys():\n",
    "            yield key"
   ]
  },
  {
   "cell_type": "code",
   "execution_count": null,
   "metadata": {},
   "outputs": [],
   "source": [
    "fbdm = FallbackDictM(*dicts)"
   ]
  },
  {
   "cell_type": "code",
   "execution_count": null,
   "metadata": {},
   "outputs": [],
   "source": [
    "print(len(fbdm))  # directly hitting __len__\n",
    "for key in fbdm:  # hits __iter__\n",
    "    print(key, fbdm[key])"
   ]
  },
  {
   "cell_type": "code",
   "execution_count": null,
   "metadata": {},
   "outputs": [],
   "source": [
    "list(fbdm.values())  # values method for free"
   ]
  },
  {
   "cell_type": "code",
   "execution_count": null,
   "metadata": {},
   "outputs": [],
   "source": [
    "'name' in fbdm  # __contains__ for free"
   ]
  },
  {
   "cell_type": "code",
   "execution_count": null,
   "metadata": {},
   "outputs": [],
   "source": [
    "flattened = dict(fbdm)\n",
    "flattened"
   ]
  },
  {
   "cell_type": "code",
   "execution_count": null,
   "metadata": {},
   "outputs": [],
   "source": [
    "flattened == fbdm  # __eq__ for free"
   ]
  },
  {
   "cell_type": "code",
   "execution_count": null,
   "metadata": {},
   "outputs": [],
   "source": []
  },
  {
   "cell_type": "markdown",
   "metadata": {},
   "source": [
    "```\n",
    "\n",
    "\n",
    "\n",
    "\n",
    "\n",
    "\n",
    "\n",
    "\n",
    "\n",
    "\n",
    "\n",
    "\n",
    "\n",
    "\n",
    "\n",
    "\n",
    "```"
   ]
  },
  {
   "cell_type": "code",
   "execution_count": null,
   "metadata": {},
   "outputs": [],
   "source": [
    "import re\n",
    "import requests\n",
    "\n",
    "def get_xkcd_hotlink(comic_number):\n",
    "    \"\"\"Extract the embedded URL for an XKCD comic (no magic here)\"\"\"\n",
    "    match = re.search(\n",
    "        r\"Image URL \\(for hotlinking/embedding\\):\\s*(?P<url>http.*(jpg|png))\", \n",
    "        requests.get(f\"https://xkcd.com/{comic_number}/\").text,\n",
    "    )\n",
    "    if match:\n",
    "        return match.groupdict()[\"url\"]"
   ]
  },
  {
   "cell_type": "markdown",
   "metadata": {},
   "source": [
    "## Proprietary Magic\n",
    "\n",
    "https://ipython.readthedocs.io/en/stable/config/integrating.html#rich-display\n",
    "\n",
    "IPython notebook can display richer representations of objects. To use this, you can define any of a number of `_repr_*_()` methods. Note that these are surrounded by single, not double underscores.\n",
    "\n",
    "The notebook can display `svg`, `png`, `jpeg`, `html`, `javascript`, `markdown` and `latex`. If the methods don’t exist, or return `None`, it falls back to a standard `repr()`."
   ]
  },
  {
   "cell_type": "code",
   "execution_count": null,
   "metadata": {},
   "outputs": [],
   "source": [
    "class XKCDViewer:        \n",
    "    def __getitem__(self, key):\n",
    "        url = get_xkcd_hotlink(key)\n",
    "        if url is None:\n",
    "            raise KeyError(\"couldn't find XKCD comic with that number\")\n",
    "        return XKCDComic(url)\n",
    "\n",
    "\n",
    "class XKCDComic:\n",
    "    def __init__(self, url):\n",
    "        self.url = url\n",
    "\n",
    "    def _repr_html_(self):\n",
    "        return f\"<img src='{self.url}'>\"\n",
    "\n",
    "\n",
    "xkcd = XKCDViewer()"
   ]
  },
  {
   "cell_type": "code",
   "execution_count": null,
   "metadata": {},
   "outputs": [],
   "source": [
    "ANTIGRAVITY = 353\n",
    "BOBBY_TABLES = 327\n",
    "PYTHON_ENV = 1987\n",
    "SANDWICH = 149\n",
    "\n",
    "xkcd[ANTIGRAVITY]"
   ]
  },
  {
   "cell_type": "code",
   "execution_count": null,
   "metadata": {},
   "outputs": [],
   "source": []
  },
  {
   "cell_type": "markdown",
   "metadata": {},
   "source": [
    "```\n",
    "\n",
    "\n",
    "\n",
    "\n",
    "\n",
    "\n",
    "\n",
    "\n",
    "\n",
    "\n",
    "\n",
    "\n",
    "\n",
    "\n",
    "\n",
    "\n",
    "```"
   ]
  },
  {
   "cell_type": "markdown",
   "metadata": {},
   "source": [
    "## Bonus: Context Managers"
   ]
  },
  {
   "cell_type": "code",
   "execution_count": null,
   "metadata": {},
   "outputs": [],
   "source": [
    "class Suppressor:\n",
    "    \"\"\"\n",
    "    https://docs.python.org/3/reference/datamodel.html#with-statement-context-managers\n",
    "    \"\"\"\n",
    "    def __init__(self, exc_ignore):\n",
    "        self.exc_ignore = exc_ignore\n",
    "\n",
    "    def __enter__(self):\n",
    "        return self\n",
    "    \n",
    "    def __exit__(self, exc_type, exc_value, traceback):\n",
    "        \"\"\"\n",
    "        ... If an exception is supplied, and the method wishes to suppress the \n",
    "        exception, it should return a true value. ...\n",
    "        \"\"\"\n",
    "        return (\n",
    "            exc_type is not None \n",
    "            and issubclass(exc_type, self.exc_ignore)\n",
    "        )"
   ]
  },
  {
   "cell_type": "code",
   "execution_count": null,
   "metadata": {},
   "outputs": [],
   "source": [
    "with Suppressor(IndexError):\n",
    "    print('abcde'[:3])  # works normally\n",
    "\n",
    "with Suppressor(IndexError):\n",
    "    print('abcde'[1000])  # raises an error, but it gets suppressed\n",
    "    \n",
    "print('mmmkay')"
   ]
  },
  {
   "cell_type": "code",
   "execution_count": null,
   "metadata": {
    "scrolled": true
   },
   "outputs": [],
   "source": [
    "with Suppressor(RuntimeError):\n",
    "    'abcde'[1000]  # raises the wrong error"
   ]
  },
  {
   "cell_type": "markdown",
   "metadata": {},
   "source": [
    "We basically re-implemented [`contextlib.suppress`](https://docs.python.org/3/library/contextlib.html#contextlib.suppress) [(source)](https://github.com/python/cpython/blob/cca4eec3c0/Lib/contextlib.py#L342) from the standard lib."
   ]
  },
  {
   "cell_type": "code",
   "execution_count": null,
   "metadata": {},
   "outputs": [],
   "source": [
    "import traceback\n",
    "\n",
    "class expect_exception:\n",
    "    \"\"\"\n",
    "    Expect an exception and trap it. Helps run all of a notebook\n",
    "    that may have intentional errors for pedagogical reasons\n",
    "    \"\"\"\n",
    "    def __init__(self, *exc_types):\n",
    "        self.exc_types = exc_types\n",
    "        \n",
    "    def __enter__(self):\n",
    "        return self\n",
    "    \n",
    "    def __exit__(self, exc_type, exc_value, tb):\n",
    "        if exc_type is None:\n",
    "            raise RuntimeError('expected exception did not occur!')\n",
    "        if issubclass(exc_type, self.exc_types):\n",
    "            traceback.print_exception(exc_type, exc_value, tb)\n",
    "            return True"
   ]
  },
  {
   "cell_type": "code",
   "execution_count": null,
   "metadata": {},
   "outputs": [],
   "source": [
    "with expect_exception(Exception):\n",
    "    PathA('a') / 'b'"
   ]
  },
  {
   "cell_type": "code",
   "execution_count": null,
   "metadata": {},
   "outputs": [],
   "source": []
  }
 ],
 "metadata": {
  "kernelspec": {
   "display_name": "Python 3",
   "language": "python",
   "name": "python3"
  },
  "language_info": {
   "codemirror_mode": {
    "name": "ipython",
    "version": 3
   },
   "file_extension": ".py",
   "mimetype": "text/x-python",
   "name": "python",
   "nbconvert_exporter": "python",
   "pygments_lexer": "ipython3",
   "version": "3.6.4"
  }
 },
 "nbformat": 4,
 "nbformat_minor": 2
}
