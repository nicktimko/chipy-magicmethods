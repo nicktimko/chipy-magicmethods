{
 "cells": [
  {
   "cell_type": "code",
   "execution_count": 2,
   "metadata": {},
   "outputs": [],
   "source": [
    "import asyncio\n",
    "import collections.abc\n",
    "import inspect"
   ]
  },
  {
   "cell_type": "markdown",
   "metadata": {},
   "source": [
    "# Full Demo: Async Methods"
   ]
  },
  {
   "cell_type": "markdown",
   "metadata": {},
   "source": [
    "## `__aiter__`, `__anext__`\n",
    "\n",
    "From [PEP-525](https://www.python.org/dev/peps/pep-0525/#asynchronous-generator-object)\n",
    "\n",
    "* `obj.__aiter__()` immediately returns an asynchronous generator (note: semantics are slightly different pre-3.5.2)\n",
    "* `obj.__anext__()` returns an awaitable that will perform one iteration when awaited.\n",
    "* `obj.asend(val)` returns an awaitable that pushes `val` into `agen` on the next loop"
   ]
  },
  {
   "cell_type": "code",
   "execution_count": 3,
   "metadata": {},
   "outputs": [],
   "source": [
    "async def async_gen_func(limit):\n",
    "    \"\"\"Asynchronous generator function\"\"\"\n",
    "    await asyncio.sleep(0.1)\n",
    "    n = 0\n",
    "    while n < limit:\n",
    "        n += 1\n",
    "        yield n\n",
    "\n",
    "        \n",
    "class AsyncIterable:\n",
    "    \"\"\"\n",
    "    Asynchronous iterable \n",
    "    \"\"\"\n",
    "    def __init__(self, limit):\n",
    "        self.n = 0\n",
    "        self.limit = limit\n",
    "        \n",
    "    async def __aiter__(self):\n",
    "        await asyncio.sleep(0.1)\n",
    "        while self.n < self.limit:\n",
    "            self.n += 1\n",
    "            value = yield self.n\n",
    "            if value is not None:\n",
    "                self.n = value\n",
    "            \n",
    "            \n",
    "class AsyncIterator:\n",
    "    \"\"\"\n",
    "    Asynchronous iterator.\n",
    "    \n",
    "    object using Python methods\n",
    "    \n",
    "    This provides additional flexibility but does not fully \n",
    "    replicate the behavior the asynchronous generator above\n",
    "    which also will support \n",
    "      - aiter.asend(value) and \n",
    "      - aiter.athrow(exc)      \n",
    "    \"\"\"\n",
    "    def __init__(self, limit):\n",
    "        self.n = 0\n",
    "        self.limit = limit\n",
    "        \n",
    "    def __aiter__(self):\n",
    "        # NOTE: not async!\n",
    "        return self\n",
    "    \n",
    "    async def __anext__(self):\n",
    "        await asyncio.sleep(0.1)\n",
    "        self.n += 1\n",
    "        if self.n > self.limit:\n",
    "            raise StopAsyncIteration\n",
    "        return self.n"
   ]
  },
  {
   "cell_type": "code",
   "execution_count": 4,
   "metadata": {},
   "outputs": [],
   "source": [
    "async def demo_ag(ag_callable, *args):\n",
    "    \"\"\"\n",
    "    Exercise some callable that returns an async generator\n",
    "    \"\"\"\n",
    "    print(\"manual: \", end=\"\")\n",
    "\n",
    "    iter_ = ag_callable(*args)\n",
    "    async_gen = type(iter_).__aiter__(iter_)\n",
    "    running = True\n",
    "    while running:\n",
    "        try:\n",
    "            target = await async_gen.__anext__()\n",
    "        except StopAsyncIteration:\n",
    "            running = False\n",
    "        else:\n",
    "            # <LOOP BODY>\n",
    "            print(target, end=\", \")\n",
    "            # </LOOP BODY>\n",
    "    else:\n",
    "        # <LOOP ELSE>\n",
    "        print(\"done\")\n",
    "        # </LOOP ELSE>           \n",
    "            \n",
    "    ##########################################\n",
    "    print(\"magic : \", end=\"\")\n",
    "    \n",
    "    async for target in async_gen_func(*args):\n",
    "        # <LOOP BODY>\n",
    "        print(target, end=\", \")\n",
    "        # </LOOP BODY>\n",
    "    else:\n",
    "        # <LOOP ELSE>\n",
    "        print(\"done\")\n",
    "        # </LOOP ELSE>"
   ]
  },
  {
   "cell_type": "code",
   "execution_count": 5,
   "metadata": {},
   "outputs": [
    {
     "name": "stdout",
     "output_type": "stream",
     "text": [
      "manual: 1, 2, 3, done\n",
      "magic : 1, 2, 3, done\n"
     ]
    }
   ],
   "source": [
    "await demo_ag(async_gen_func, 3)"
   ]
  },
  {
   "cell_type": "code",
   "execution_count": 13,
   "metadata": {},
   "outputs": [
    {
     "name": "stdout",
     "output_type": "stream",
     "text": [
      "manual: 1, 2, 3, 4, done\n",
      "magic : 1, 2, 3, 4, done\n"
     ]
    }
   ],
   "source": [
    "await demo_ag(AsyncIterable, 4)"
   ]
  },
  {
   "cell_type": "code",
   "execution_count": 14,
   "metadata": {},
   "outputs": [
    {
     "name": "stdout",
     "output_type": "stream",
     "text": [
      "manual: 1, 2, 3, 4, 5, done\n",
      "magic : 1, 2, 3, 4, 5, done\n"
     ]
    }
   ],
   "source": [
    "await demo_ag(AsyncIterator, 5)"
   ]
  },
  {
   "cell_type": "markdown",
   "metadata": {},
   "source": [
    "## `__aenter__`, `__aexit__`\n",
    "\n",
    "Akin to `__enter__` and `__exit__` which are invoked in a `with` block, `__aenter__` and `__aexit__` coroutine methods are invoked with `async with`. Their signatures are the same, with the entrance method taking no arguments, and the exit method takes 3 about the exception."
   ]
  },
  {
   "cell_type": "code",
   "execution_count": 17,
   "metadata": {},
   "outputs": [],
   "source": [
    "class AsyncContextManager:\n",
    "    def __init__(self, exclusive_resource=None):\n",
    "        self.exclusive_resource = exclusive_resource\n",
    "\n",
    "    async def __aenter__(self):\n",
    "        self.exclusive_resource\n",
    "    \n",
    "    async def __aexit__(self, exc_type, exc_value, tb):\n",
    "        pass"
   ]
  },
  {
   "cell_type": "code",
   "execution_count": 18,
   "metadata": {},
   "outputs": [
    {
     "name": "stdout",
     "output_type": "stream",
     "text": [
      "division by zero\n"
     ]
    }
   ],
   "source": [
    "acm = AsyncContextManager()\n",
    "acm\n",
    "\n",
    "try:\n",
    "    async with acm:\n",
    "        acm.resource_used = True\n",
    "        # do something dangerous\n",
    "        1/0\n",
    "except Exception as exc:\n",
    "    print(exc)"
   ]
  },
  {
   "cell_type": "markdown",
   "metadata": {},
   "source": [
    "## `__await__`\n",
    "\n",
    "Implementing the `__await__` method on a class allows an instance of it to be awaited. However, the `__await__` method itself must be synchronous (not `async def __await__`), and return an iterator."
   ]
  },
  {
   "cell_type": "code",
   "execution_count": 1,
   "metadata": {},
   "outputs": [
    {
     "ename": "NameError",
     "evalue": "name 'inspect' is not defined",
     "output_type": "error",
     "traceback": [
      "\u001b[0;31m---------------------------------------------------------------------------\u001b[0m",
      "\u001b[0;31mNameError\u001b[0m                                 Traceback (most recent call last)",
      "\u001b[0;32mcell_name\u001b[0m in \u001b[0;36masync-def-wrapper\u001b[0;34m()\u001b[0m\n",
      "\u001b[0;31mNameError\u001b[0m: name 'inspect' is not defined"
     ]
    }
   ],
   "source": [
    "# future-like object\n",
    "class FutureLike():\n",
    "    def __init__(self, sleep=0.1):\n",
    "        self.t_sleep = sleep\n",
    "\n",
    "    async def _wrapped(self):\n",
    "        await asyncio.sleep(self.t_sleep)\n",
    "        return 1871\n",
    "\n",
    "    def __await__(self):\n",
    "        return self._wrapped().__await__()\n",
    "    \n",
    "future_like_object = FutureLike()\n",
    "FLO = future_like_object\n",
    "\n",
    "assert not inspect.iscoroutine(FLO)\n",
    "assert not inspect.iscoroutinefunction(FLO)\n",
    "assert inspect.isawaitable(FLO)\n",
    "assert isinstance(FLO, collections.abc.Awaitable)\n",
    "\n",
    "await FLO"
   ]
  },
  {
   "cell_type": "code",
   "execution_count": 370,
   "metadata": {},
   "outputs": [
    {
     "data": {
      "text/plain": [
       "1893"
      ]
     },
     "execution_count": 370,
     "metadata": {},
     "output_type": "execute_result"
    }
   ],
   "source": [
    "async def native_coroutine_function():\n",
    "    return 1893\n",
    "\n",
    "native_coroutine_object = native_coroutine_function()\n",
    "\n",
    "NCF = native_coroutine_function\n",
    "NCO = native_coroutine_object\n",
    "\n",
    "assert not inspect.iscoroutine(NCF)\n",
    "assert inspect.iscoroutinefunction(NCF)\n",
    "assert not inspect.isawaitable(NCF)\n",
    "assert not isinstance(NCF, collections.abc.Awaitable)\n",
    "\n",
    "assert inspect.iscoroutine(NCO)\n",
    "assert not inspect.iscoroutinefunction(NCO)\n",
    "assert inspect.isawaitable(NCO)\n",
    "assert isinstance(NCO, collections.abc.Awaitable)\n",
    "\n",
    "await NCO"
   ]
  },
  {
   "cell_type": "markdown",
   "metadata": {},
   "source": [
    "For historical interest, there is the ` @asyncio.coroutine` decorator which can mark iterators as coroutines. They act identically in typical code (can both be initialized with a call, then awaited), but introspection (via the `inspect` module) can tease them apart. The syntax used here would be compatible with Python 2 *(boos loudly)*"
   ]
  },
  {
   "cell_type": "code",
   "execution_count": 362,
   "metadata": {},
   "outputs": [
    {
     "data": {
      "text/plain": [
       "1904"
      ]
     },
     "execution_count": 362,
     "metadata": {},
     "output_type": "execute_result"
    }
   ],
   "source": [
    "@asyncio.coroutine\n",
    "def generator_based_coroutine_function():\n",
    "    yield from asyncio.sleep(0.1)\n",
    "    return 1904\n",
    "\n",
    "generator_based_coroutine_object = generator_based_coroutine_function()\n",
    "\n",
    "GBCF = generator_based_coroutine_function\n",
    "GBCO = generator_based_coroutine_object\n",
    "\n",
    "assert not inspect.iscoroutine(GBCF)\n",
    "assert not inspect.iscoroutinefunction(GBCF)\n",
    "assert not inspect.isawaitable(GBCF)\n",
    "assert not isinstance(GBCF, collections.abc.Awaitable)\n",
    "\n",
    "assert not inspect.iscoroutine(GBCO)\n",
    "assert not inspect.iscoroutinefunction(GBCO)\n",
    "assert inspect.isawaitable(GBCO)\n",
    "assert not isinstance(GBCO, collections.abc.Awaitable) # :/\n",
    "\n",
    "await GBCO"
   ]
  },
  {
   "cell_type": "code",
   "execution_count": null,
   "metadata": {},
   "outputs": [],
   "source": []
  }
 ],
 "metadata": {
  "kernelspec": {
   "display_name": "Python 3",
   "language": "python",
   "name": "python3"
  },
  "language_info": {
   "codemirror_mode": {
    "name": "ipython",
    "version": 3
   },
   "file_extension": ".py",
   "mimetype": "text/x-python",
   "name": "python",
   "nbconvert_exporter": "python",
   "pygments_lexer": "ipython3",
   "version": "3.7.2"
  }
 },
 "nbformat": 4,
 "nbformat_minor": 2
}
